{
 "cells": [
  {
   "cell_type": "markdown",
   "id": "61d2211e",
   "metadata": {
    "deletable": false,
    "editable": false,
    "nbgrader": {
     "cell_type": "markdown",
     "checksum": "b7bfab4ddceb06b33a573148fce5ae67",
     "grade": false,
     "grade_id": "cell-md-1",
     "locked": true,
     "schema_version": 3,
     "solution": false,
     "task": false
    }
   },
   "source": [
    "## Assignment 2"
   ]
  },
  {
   "cell_type": "markdown",
   "id": "f9f70e57",
   "metadata": {
    "deletable": false,
    "editable": false,
    "nbgrader": {
     "cell_type": "markdown",
     "checksum": "0ceadbe3bd220a87d02fceaedc72c326",
     "grade": false,
     "grade_id": "cell-md-2",
     "locked": true,
     "schema_version": 3,
     "solution": false,
     "task": false
    }
   },
   "source": [
    "## Imports\n",
    "It is important for all (or most) imports to go on the top of a notebook so that other users know which packages need to be installed. In projects that use Anaconda, it is also common to see a file named requirements.txt listing all the packages that one has to install.\n",
    "\n",
    "First, let's import all the necessary modules using the import function. For this exercise we will continue to use Pandas, and will gain more experience using Numpy, Matplotlib, and Seaborn.\n",
    "\n",
    "To learn more about these packages, you can read through the documentation:  \n",
    "https://pandas.pydata.org/  \n",
    "https://numpy.org/  \n",
    "https://seaborn.pydata.org/  \n",
    "https://matplotlib.org/"
   ]
  },
  {
   "cell_type": "code",
   "execution_count": 1,
   "id": "2712fe97",
   "metadata": {
    "deletable": false,
    "editable": false,
    "nbgrader": {
     "cell_type": "code",
     "checksum": "6078a2d58f3923299c4e30bb7b00b8ea",
     "grade": false,
     "grade_id": "cell-59464e37b95dcc77",
     "locked": true,
     "schema_version": 3,
     "solution": false,
     "task": false
    }
   },
   "outputs": [],
   "source": [
    "# Let's import the relevant Python packages here\n",
    "# Feel free to import any other packages for this project\n",
    "\n",
    "#Data Wrangling\n",
    "import pandas as pd\n",
    "import numpy as np\n",
    "\n",
    "#Sci Kit Learn\n",
    "from sklearn.linear_model import LinearRegression\n",
    "from sklearn.preprocessing import PolynomialFeatures\n",
    "\n",
    "#Stats Models\n",
    "import statsmodels.formula.api as smf\n",
    "import statsmodels.api as sm\n",
    "\n",
    "#Metrics\n",
    "from sklearn.metrics import mean_squared_error\n",
    "\n",
    "#Plotting\n",
    "import matplotlib.pyplot as plt\n",
    "\n",
    "%matplotlib inline"
   ]
  },
  {
   "cell_type": "markdown",
   "id": "31c435b5",
   "metadata": {
    "deletable": false,
    "editable": false,
    "nbgrader": {
     "cell_type": "markdown",
     "checksum": "052412960b09eac4829c10835977f481",
     "grade": false,
     "grade_id": "cell-md-3",
     "locked": true,
     "schema_version": 3,
     "solution": false,
     "task": false
    }
   },
   "source": [
    "## Data 1\n",
    "First, we will use the Data1 dataset to generate polynomial regressions using scikitlearn.\n",
    "This dataset contains 100 observations of points x and their corresponding response, y. The data\n",
    "is divided into a training set (xtr, ytr) and a test set (xte, yte)."
   ]
  },
  {
   "cell_type": "markdown",
   "id": "60a187f2",
   "metadata": {
    "deletable": false,
    "editable": false,
    "nbgrader": {
     "cell_type": "markdown",
     "checksum": "1b915f6bef304020793d9756b0762f4e",
     "grade": false,
     "grade_id": "cell-f6355dfcf3c2cccf",
     "locked": true,
     "schema_version": 3,
     "solution": false,
     "task": false
    }
   },
   "source": [
    "Let's load the Data1 dataset using pandas and check a couple of rows "
   ]
  },
  {
   "cell_type": "code",
   "execution_count": 2,
   "id": "0ac91382",
   "metadata": {
    "deletable": false,
    "editable": false,
    "nbgrader": {
     "cell_type": "code",
     "checksum": "a6395f4ecb15d78a22cf7f415178d8c3",
     "grade": false,
     "grade_id": "cell-703b82f754f5a0a2",
     "locked": true,
     "schema_version": 3,
     "solution": false,
     "task": false
    }
   },
   "outputs": [
    {
     "data": {
      "text/html": [
       "<div>\n",
       "<style scoped>\n",
       "    .dataframe tbody tr th:only-of-type {\n",
       "        vertical-align: middle;\n",
       "    }\n",
       "\n",
       "    .dataframe tbody tr th {\n",
       "        vertical-align: top;\n",
       "    }\n",
       "\n",
       "    .dataframe thead th {\n",
       "        text-align: right;\n",
       "    }\n",
       "</style>\n",
       "<table border=\"1\" class=\"dataframe\">\n",
       "  <thead>\n",
       "    <tr style=\"text-align: right;\">\n",
       "      <th></th>\n",
       "      <th>x_tr</th>\n",
       "      <th>y_tr</th>\n",
       "      <th>x_te</th>\n",
       "      <th>y_te</th>\n",
       "    </tr>\n",
       "  </thead>\n",
       "  <tbody>\n",
       "    <tr>\n",
       "      <th>0</th>\n",
       "      <td>0.249973</td>\n",
       "      <td>-0.225565</td>\n",
       "      <td>0.006047</td>\n",
       "      <td>0.043946</td>\n",
       "    </tr>\n",
       "    <tr>\n",
       "      <th>1</th>\n",
       "      <td>0.073364</td>\n",
       "      <td>0.435610</td>\n",
       "      <td>0.483860</td>\n",
       "      <td>-0.066113</td>\n",
       "    </tr>\n",
       "    <tr>\n",
       "      <th>2</th>\n",
       "      <td>0.663146</td>\n",
       "      <td>0.507205</td>\n",
       "      <td>0.123247</td>\n",
       "      <td>0.859564</td>\n",
       "    </tr>\n",
       "    <tr>\n",
       "      <th>3</th>\n",
       "      <td>0.595366</td>\n",
       "      <td>0.059467</td>\n",
       "      <td>0.307679</td>\n",
       "      <td>-0.305032</td>\n",
       "    </tr>\n",
       "    <tr>\n",
       "      <th>4</th>\n",
       "      <td>0.415146</td>\n",
       "      <td>-0.035114</td>\n",
       "      <td>0.926060</td>\n",
       "      <td>-0.472700</td>\n",
       "    </tr>\n",
       "  </tbody>\n",
       "</table>\n",
       "</div>"
      ],
      "text/plain": [
       "       x_tr      y_tr      x_te      y_te\n",
       "0  0.249973 -0.225565  0.006047  0.043946\n",
       "1  0.073364  0.435610  0.483860 -0.066113\n",
       "2  0.663146  0.507205  0.123247  0.859564\n",
       "3  0.595366  0.059467  0.307679 -0.305032\n",
       "4  0.415146 -0.035114  0.926060 -0.472700"
      ]
     },
     "execution_count": 2,
     "metadata": {},
     "output_type": "execute_result"
    }
   ],
   "source": [
    "Data1 = pd.read_csv(\"Data1.csv\")\n",
    "Data1.head()"
   ]
  },
  {
   "cell_type": "markdown",
   "id": "4bdd28ff",
   "metadata": {
    "deletable": false,
    "editable": false,
    "nbgrader": {
     "cell_type": "markdown",
     "checksum": "b9f2a2a46d1c8564893a9da324912d41",
     "grade": false,
     "grade_id": "cell-md-5",
     "locked": true,
     "schema_version": 3,
     "solution": false,
     "task": false
    }
   },
   "source": [
    "Let's create a scatter plot of y_tr against x_tr "
   ]
  },
  {
   "cell_type": "code",
   "execution_count": 3,
   "id": "e39a8a19",
   "metadata": {
    "deletable": false,
    "editable": false,
    "nbgrader": {
     "cell_type": "code",
     "checksum": "51aa25cb83be68e27baab5df321c2c10",
     "grade": false,
     "grade_id": "cell-aa",
     "locked": true,
     "schema_version": 3,
     "solution": false,
     "task": false
    }
   },
   "outputs": [
    {
     "data": {
      "image/png": "[encoded data removed]",
      "text/plain": [
       "<Figure size 640x480 with 1 Axes>"
      ]
     },
     "metadata": {},
     "output_type": "display_data"
    }
   ],
   "source": [
    "plt.plot(Data1['x_tr'],Data1['y_tr'],'o')\n",
    "plt.xlabel('x')\n",
    "plt.ylabel('y')\n",
    "plt.title(\"Plot of training dataset\")\n",
    "plt.show()"
   ]
  },
  {
   "cell_type": "code",
   "execution_count": 4,
   "id": "94146b57",
   "metadata": {
    "deletable": false,
    "editable": false,
    "nbgrader": {
     "cell_type": "code",
     "checksum": "a463b1e520b07200f9b7fc3a79eb201f",
     "grade": false,
     "grade_id": "cell-ccce151dfde6aae0",
     "locked": true,
     "schema_version": 3,
     "solution": false,
     "task": false
    }
   },
   "outputs": [
    {
     "name": "stdout",
     "output_type": "stream",
     "text": [
      "Max value of y in the training set: 0.95500282089616 \n"
     ]
    }
   ],
   "source": [
    "# Let's try to find the maximum y value in training data \n",
    "\n",
    "print(\"Max value of y in the training set: %s \" % Data1.y_tr.max())"
   ]
  },
  {
   "cell_type": "markdown",
   "id": "4d206cef",
   "metadata": {
    "deletable": false,
    "editable": false,
    "nbgrader": {
     "cell_type": "markdown",
     "checksum": "cd33bdac1ff7c527dc53b366dade7015",
     "grade": false,
     "grade_id": "cell-md-6",
     "locked": true,
     "schema_version": 3,
     "solution": false,
     "task": false
    }
   },
   "source": [
    "1. Now, make a scatter plot of y_te against x_te. Find the maximum value of y in testing data and save this in a variable called `max_y_te`. Notice the similarities and differences between the plots."
   ]
  },
  {
   "cell_type": "code",
   "execution_count": 5,
   "id": "30c57aee",
   "metadata": {
    "deletable": false,
    "nbgrader": {
     "cell_type": "code",
     "checksum": "72167b0831f698750bffac6e551646ed",
     "grade": false,
     "grade_id": "cell-c62781c083043e86",
     "locked": false,
     "schema_version": 3,
     "solution": true,
     "task": false
    }
   },
   "outputs": [
    {
     "data": {
      "image/png": "[encoded data removed]",
      "text/plain": [
       "<Figure size 640x480 with 1 Axes>"
      ]
     },
     "metadata": {},
     "output_type": "display_data"
    }
   ],
   "source": [
    "# Write code for scatter plot like above\n",
    "\n",
    "# your code here\n",
    "plt.plot(Data1['y_te'],Data1['x_te'],'o')\n",
    "plt.xlabel('x')\n",
    "plt.ylabel('y')\n",
    "plt.title(\"Plot of testing dataset\")\n",
    "plt.show()"
   ]
  },
  {
   "cell_type": "code",
   "execution_count": 6,
   "id": "7de03d3e",
   "metadata": {
    "deletable": false,
    "nbgrader": {
     "cell_type": "code",
     "checksum": "3d8c1d9422e39630ff3ac27bc7c884b4",
     "grade": false,
     "grade_id": "cell-17bfab400137c926",
     "locked": false,
     "schema_version": 3,
     "solution": true,
     "task": false
    }
   },
   "outputs": [
    {
     "name": "stdout",
     "output_type": "stream",
     "text": [
      "Max value of y in the testing set: 0.8655959436070828 \n"
     ]
    }
   ],
   "source": [
    "max_y_te = Data1.y_te.max()\n",
    "print(\"Max value of y in the testing set: %s \" % max_y_te)\n",
    "\n",
    "# your code here\n"
   ]
  },
  {
   "cell_type": "code",
   "execution_count": 7,
   "id": "45fe01a9",
   "metadata": {
    "deletable": false,
    "editable": false,
    "nbgrader": {
     "cell_type": "code",
     "checksum": "434bcc0be2f3a3170c0af98ecb6382e7",
     "grade": true,
     "grade_id": "cell-032edd4d7fd0ad8",
     "locked": true,
     "points": 10,
     "schema_version": 3,
     "solution": false,
     "task": false
    }
   },
   "outputs": [],
   "source": [
    "##########################\n",
    "### TEST YOUR SOLUTION ###\n",
    "##########################\n",
    "\n",
    "import math\n",
    "assert math.isclose(max_y_te,0.865, rel_tol=0.001), \"Max value of y in the testing set is wrong, please try again..\""
   ]
  },
  {
   "cell_type": "markdown",
   "id": "ff5dc969",
   "metadata": {
    "deletable": false,
    "editable": false,
    "nbgrader": {
     "cell_type": "markdown",
     "checksum": "41667ec44d4d32230448a9135daab4ed",
     "grade": false,
     "grade_id": "cell-md-7",
     "locked": true,
     "schema_version": 3,
     "solution": false,
     "task": false
    }
   },
   "source": [
    "### Observation:\n",
    "Both the training set and test set range from 0 to approximately 1.0 on the x-axis. However, they differ slightly in range on the y-axis, as indicated below. Both sets have a negative polynomial relationship that seems to fit an odd-powered polynomial like $y=x^3$  or  $y=x^5$ . It seems, however, that the training set has a few end points that trend upward, while the test set has end points that shift mostly downward, which is bit concerning because we will only be training our model on the training set."
   ]
  },
  {
   "cell_type": "code",
   "execution_count": 8,
   "id": "a99af481",
   "metadata": {
    "deletable": false,
    "editable": false,
    "nbgrader": {
     "cell_type": "code",
     "checksum": "cf79ac074738468d0be1f0491b8133ac",
     "grade": false,
     "grade_id": "cell-26f0fc51f8176a6a",
     "locked": true,
     "schema_version": 3,
     "solution": false,
     "task": false
    }
   },
   "outputs": [
    {
     "data": {
      "text/html": [
       "<div>\n",
       "<style scoped>\n",
       "    .dataframe tbody tr th:only-of-type {\n",
       "        vertical-align: middle;\n",
       "    }\n",
       "\n",
       "    .dataframe tbody tr th {\n",
       "        vertical-align: top;\n",
       "    }\n",
       "\n",
       "    .dataframe thead th {\n",
       "        text-align: right;\n",
       "    }\n",
       "</style>\n",
       "<table border=\"1\" class=\"dataframe\">\n",
       "  <thead>\n",
       "    <tr style=\"text-align: right;\">\n",
       "      <th></th>\n",
       "      <th>x_tr</th>\n",
       "      <th>y_tr</th>\n",
       "      <th>x_te</th>\n",
       "      <th>y_te</th>\n",
       "    </tr>\n",
       "  </thead>\n",
       "  <tbody>\n",
       "    <tr>\n",
       "      <th>count</th>\n",
       "      <td>100.000000</td>\n",
       "      <td>100.000000</td>\n",
       "      <td>100.000000</td>\n",
       "      <td>100.000000</td>\n",
       "    </tr>\n",
       "    <tr>\n",
       "      <th>mean</th>\n",
       "      <td>0.458643</td>\n",
       "      <td>-0.025843</td>\n",
       "      <td>0.536497</td>\n",
       "      <td>-0.077955</td>\n",
       "    </tr>\n",
       "    <tr>\n",
       "      <th>std</th>\n",
       "      <td>0.297692</td>\n",
       "      <td>0.414122</td>\n",
       "      <td>0.281253</td>\n",
       "      <td>0.394800</td>\n",
       "    </tr>\n",
       "    <tr>\n",
       "      <th>min</th>\n",
       "      <td>0.000227</td>\n",
       "      <td>-0.894846</td>\n",
       "      <td>0.000943</td>\n",
       "      <td>-0.932274</td>\n",
       "    </tr>\n",
       "    <tr>\n",
       "      <th>25%</th>\n",
       "      <td>0.229455</td>\n",
       "      <td>-0.326359</td>\n",
       "      <td>0.327842</td>\n",
       "      <td>-0.355185</td>\n",
       "    </tr>\n",
       "    <tr>\n",
       "      <th>50%</th>\n",
       "      <td>0.418045</td>\n",
       "      <td>-0.037512</td>\n",
       "      <td>0.546187</td>\n",
       "      <td>-0.079175</td>\n",
       "    </tr>\n",
       "    <tr>\n",
       "      <th>75%</th>\n",
       "      <td>0.728595</td>\n",
       "      <td>0.282205</td>\n",
       "      <td>0.760411</td>\n",
       "      <td>0.127002</td>\n",
       "    </tr>\n",
       "    <tr>\n",
       "      <th>max</th>\n",
       "      <td>0.995734</td>\n",
       "      <td>0.955003</td>\n",
       "      <td>0.977284</td>\n",
       "      <td>0.865596</td>\n",
       "    </tr>\n",
       "  </tbody>\n",
       "</table>\n",
       "</div>"
      ],
      "text/plain": [
       "             x_tr        y_tr        x_te        y_te\n",
       "count  100.000000  100.000000  100.000000  100.000000\n",
       "mean     0.458643   -0.025843    0.536497   -0.077955\n",
       "std      0.297692    0.414122    0.281253    0.394800\n",
       "min      0.000227   -0.894846    0.000943   -0.932274\n",
       "25%      0.229455   -0.326359    0.327842   -0.355185\n",
       "50%      0.418045   -0.037512    0.546187   -0.079175\n",
       "75%      0.728595    0.282205    0.760411    0.127002\n",
       "max      0.995734    0.955003    0.977284    0.865596"
      ]
     },
     "execution_count": 8,
     "metadata": {},
     "output_type": "execute_result"
    }
   ],
   "source": [
    "Data1.describe()"
   ]
  },
  {
   "cell_type": "markdown",
   "id": "2c3b8d43",
   "metadata": {
    "deletable": false,
    "editable": false,
    "nbgrader": {
     "cell_type": "markdown",
     "checksum": "91d167cb84a8a9a83e7fcf1584138232",
     "grade": false,
     "grade_id": "cell-md-8",
     "locked": true,
     "schema_version": 3,
     "solution": false,
     "task": false
    }
   },
   "source": [
    "2. Perform the following \n",
    "-  Generate the necessary features to fit polynomial regressions up to the 20th degree (up to and including the x^20 term) on the training data. \n",
    "    \n",
    "-  Fit Linear regression model\n",
    "-  Calculate mean squared error on train and test data\n",
    "\n",
    "Hint: You will be fitting multi-variate linear regression models with polynomial features of x. Familiarize yourself with sklearn.preprocessing.PolynomialFeatures."
   ]
  },
  {
   "cell_type": "code",
   "execution_count": 9,
   "id": "4d4a9a60",
   "metadata": {
    "deletable": false,
    "nbgrader": {
     "cell_type": "code",
     "checksum": "a8d222b592af077b651bc3fe92e80c59",
     "grade": false,
     "grade_id": "cell-solution-4",
     "locked": false,
     "schema_version": 3,
     "solution": true,
     "task": false
    }
   },
   "outputs": [
    {
     "data": {
      "image/png": "[encoded data removed]",
      "text/plain": [
       "<Figure size 640x480 with 2 Axes>"
      ]
     },
     "metadata": {},
     "output_type": "display_data"
    }
   ],
   "source": [
    "x_tr = Data1[['x_tr']]\n",
    "y_tr = Data1[['y_tr']]\n",
    "\n",
    "x_te = Data1[['x_te']]\n",
    "y_te = Data1[['y_te']]\n",
    "max_degree = 21\n",
    "mse_train_list = []\n",
    "mse_test_list = []\n",
    "\n",
    "## Fit polynomial regressions from 1 to 20 degrees \n",
    "for d in range(1,max_degree):\n",
    "    \n",
    "    polynomial_features = PolynomialFeatures(d) # Hint: Use PolynomialFeatures() with degree d \n",
    "    \n",
    "    poly = polynomial_features.fit_transform(x_tr) # Hint: Fit transform on polynomialFeatures using 'x' train data\n",
    "    \n",
    "    poly_model = LinearRegression().fit(poly, y_tr) # Hint: Use a model like LinearRegression and fit the model using 'poly' and 'y' train data\n",
    "    \n",
    "    # your code here\n",
    "    \n",
    "    \n",
    "    ## Predict training values using the fitted poly_model\n",
    "    y_train_pred = poly_model.predict(poly)\n",
    "    \n",
    "    mse_train = mean_squared_error(y_tr, y_train_pred) # Hint: Calculate the mean squared error between y_tr and y_train_pred\n",
    "   \n",
    "    # your code here\n",
    "    \n",
    "\n",
    "    mse_train_list.append(mse_train) \n",
    "\n",
    "    y_test_pred = poly_model.predict(polynomial_features.fit_transform(Data1[['x_te']])) \n",
    "    mse_test = mean_squared_error(y_te, y_test_pred) # Hint: Calculate the mean squared error between y_te and y_test_pred\n",
    "    \n",
    "    # your code here\n",
    "    \n",
    "    \n",
    "    mse_test_list.append(mse_test)\n",
    "    \n",
    "    \n",
    "plt.subplot(2,1,1)\n",
    "plt.plot(range(1,max_degree), mse_train_list, '-r')\n",
    "plt.ylabel(\"Training MSE\")\n",
    "plt.subplot(2,1,2)\n",
    "plt.plot(range(1,max_degree), mse_test_list, '-b')\n",
    "plt.xlabel(\"Flexibility (degree of polynomial)\")\n",
    "plt.ylabel(\"Test MSE\")\n",
    "plt.show()"
   ]
  },
  {
   "cell_type": "code",
   "execution_count": 10,
   "id": "923c7edf",
   "metadata": {
    "deletable": false,
    "editable": false,
    "nbgrader": {
     "cell_type": "code",
     "checksum": "a93254e4c8228571d3404cea66f386ad",
     "grade": true,
     "grade_id": "cell-032bedd4d7fd0ad8",
     "locked": true,
     "points": 40,
     "schema_version": 3,
     "solution": false,
     "task": false
    }
   },
   "outputs": [
    {
     "name": "stdout",
     "output_type": "stream",
     "text": [
      "test passed!\n"
     ]
    }
   ],
   "source": [
    "##########################\n",
    "### TEST YOUR SOLUTION ###\n",
    "##########################\n",
    "\n",
    "assert abs(min(mse_train_list) - 0.024) < 0.001, \"Minimum value in mse_train_list is wrong. Please try again..\"\n",
    "assert abs(min(mse_test_list) - 0.032) < 0.001, \"Minimum value in mse_test_list is wrong. Please try again..\"\n",
    "assert abs(mse_train_list[4] - 0.029) < 0.001, \"One of the values in mse_train_list is wrong. Please try again..\"\n",
    "assert abs(mse_test_list[4] - 0.032) < 0.001, \"One of the values in mse_test_list is wrong. Please try again..\"\n",
    "\n",
    "print(\"test passed!\")"
   ]
  },
  {
   "cell_type": "markdown",
   "id": "6d743e4e",
   "metadata": {
    "deletable": false,
    "editable": false,
    "nbgrader": {
     "cell_type": "markdown",
     "checksum": "1c50a4e081f4fb135c00d50efa197f35",
     "grade": false,
     "grade_id": "cell-md-9",
     "locked": true,
     "schema_version": 3,
     "solution": false,
     "task": false
    }
   },
   "source": [
    "## Data 2 \n",
    "\n",
    "Next, we will use the Ch3PartB dataset to observe the effects of collinearity using statsmodels.\n",
    "This dataset contains 100 observations of points x1, x2, and y, the response variable."
   ]
  },
  {
   "cell_type": "code",
   "execution_count": 11,
   "id": "40a44b61",
   "metadata": {
    "deletable": false,
    "editable": false,
    "nbgrader": {
     "cell_type": "code",
     "checksum": "67c40d66379bd32641e2adbfec29043d",
     "grade": false,
     "grade_id": "cell-solution-5",
     "locked": true,
     "schema_version": 3,
     "solution": false,
     "task": false
    }
   },
   "outputs": [
    {
     "data": {
      "text/html": [
       "<div>\n",
       "<style scoped>\n",
       "    .dataframe tbody tr th:only-of-type {\n",
       "        vertical-align: middle;\n",
       "    }\n",
       "\n",
       "    .dataframe tbody tr th {\n",
       "        vertical-align: top;\n",
       "    }\n",
       "\n",
       "    .dataframe thead th {\n",
       "        text-align: right;\n",
       "    }\n",
       "</style>\n",
       "<table border=\"1\" class=\"dataframe\">\n",
       "  <thead>\n",
       "    <tr style=\"text-align: right;\">\n",
       "      <th></th>\n",
       "      <th>Unnamed: 0</th>\n",
       "      <th>x1</th>\n",
       "      <th>x2</th>\n",
       "      <th>y</th>\n",
       "    </tr>\n",
       "  </thead>\n",
       "  <tbody>\n",
       "    <tr>\n",
       "      <th>0</th>\n",
       "      <td>0</td>\n",
       "      <td>0.417022</td>\n",
       "      <td>0.240074</td>\n",
       "      <td>2.949735</td>\n",
       "    </tr>\n",
       "    <tr>\n",
       "      <th>1</th>\n",
       "      <td>1</td>\n",
       "      <td>0.720324</td>\n",
       "      <td>0.157942</td>\n",
       "      <td>3.261717</td>\n",
       "    </tr>\n",
       "    <tr>\n",
       "      <th>2</th>\n",
       "      <td>2</td>\n",
       "      <td>0.000114</td>\n",
       "      <td>-0.030563</td>\n",
       "      <td>3.322517</td>\n",
       "    </tr>\n",
       "    <tr>\n",
       "      <th>3</th>\n",
       "      <td>3</td>\n",
       "      <td>0.302333</td>\n",
       "      <td>0.233964</td>\n",
       "      <td>2.387546</td>\n",
       "    </tr>\n",
       "    <tr>\n",
       "      <th>4</th>\n",
       "      <td>4</td>\n",
       "      <td>0.146756</td>\n",
       "      <td>0.096387</td>\n",
       "      <td>3.002498</td>\n",
       "    </tr>\n",
       "  </tbody>\n",
       "</table>\n",
       "</div>"
      ],
      "text/plain": [
       "   Unnamed: 0        x1        x2         y\n",
       "0           0  0.417022  0.240074  2.949735\n",
       "1           1  0.720324  0.157942  3.261717\n",
       "2           2  0.000114 -0.030563  3.322517\n",
       "3           3  0.302333  0.233964  2.387546\n",
       "4           4  0.146756  0.096387  3.002498"
      ]
     },
     "execution_count": 11,
     "metadata": {},
     "output_type": "execute_result"
    }
   ],
   "source": [
    "Data2 = pd.read_csv(\"Data2.csv\").copy()\n",
    "Data2.head()"
   ]
  },
  {
   "cell_type": "code",
   "execution_count": 12,
   "id": "739bcff8",
   "metadata": {
    "deletable": false,
    "editable": false,
    "nbgrader": {
     "cell_type": "code",
     "checksum": "41405dd748fb779a3ed309872cf2a663",
     "grade": false,
     "grade_id": "cell-solution-6",
     "locked": true,
     "schema_version": 3,
     "solution": false,
     "task": false
    }
   },
   "outputs": [
    {
     "data": {
      "image/png": "[encoded data removed]",
      "text/plain": [
       "<Figure size 640x480 with 1 Axes>"
      ]
     },
     "metadata": {},
     "output_type": "display_data"
    }
   ],
   "source": [
    "# Let's check the scatter plot for this data\n",
    "\n",
    "plt.scatter(Data2.x1, Data2.x2)\n",
    "plt.xlabel('x1')\n",
    "plt.ylabel('x2')\n",
    "plt.title('Relationship between x1 and x2')\n",
    "plt.show()"
   ]
  },
  {
   "cell_type": "markdown",
   "id": "f9f8c4c9",
   "metadata": {
    "deletable": false,
    "editable": false,
    "nbgrader": {
     "cell_type": "markdown",
     "checksum": "092d914e25b0d4aee485a40ccda837a3",
     "grade": false,
     "grade_id": "cell-md-11",
     "locked": true,
     "schema_version": 3,
     "solution": false,
     "task": false
    }
   },
   "source": [
    "3. Using the data, fit a least squares regression to predict y using x1 and x2."
   ]
  },
  {
   "cell_type": "code",
   "execution_count": 13,
   "id": "73df8729",
   "metadata": {
    "deletable": false,
    "nbgrader": {
     "cell_type": "code",
     "checksum": "09f589bc1f42acd9ed8d39a037c927b3",
     "grade": false,
     "grade_id": "cell-solution-7",
     "locked": false,
     "schema_version": 3,
     "solution": true,
     "task": false
    }
   },
   "outputs": [
    {
     "data": {
      "text/html": [
       "<table class=\"simpletable\">\n",
       "<caption>OLS Regression Results</caption>\n",
       "<tr>\n",
       "  <th>Dep. Variable:</th>            <td>y</td>        <th>  R-squared:         </th> <td>   0.261</td>\n",
       "</tr>\n",
       "<tr>\n",
       "  <th>Model:</th>                   <td>OLS</td>       <th>  Adj. R-squared:    </th> <td>   0.245</td>\n",
       "</tr>\n",
       "<tr>\n",
       "  <th>Method:</th>             <td>Least Squares</td>  <th>  F-statistic:       </th> <td>   17.09</td>\n",
       "</tr>\n",
       "<tr>\n",
       "  <th>Date:</th>             <td>Wed, 29 May 2024</td> <th>  Prob (F-statistic):</th> <td>4.40e-07</td>\n",
       "</tr>\n",
       "<tr>\n",
       "  <th>Time:</th>                 <td>21:23:25</td>     <th>  Log-Likelihood:    </th> <td> -142.34</td>\n",
       "</tr>\n",
       "<tr>\n",
       "  <th>No. Observations:</th>      <td>   100</td>      <th>  AIC:               </th> <td>   290.7</td>\n",
       "</tr>\n",
       "<tr>\n",
       "  <th>Df Residuals:</th>          <td>    97</td>      <th>  BIC:               </th> <td>   298.5</td>\n",
       "</tr>\n",
       "<tr>\n",
       "  <th>Df Model:</th>              <td>     2</td>      <th>                     </th>     <td> </td>   \n",
       "</tr>\n",
       "<tr>\n",
       "  <th>Covariance Type:</th>      <td>nonrobust</td>    <th>                     </th>     <td> </td>   \n",
       "</tr>\n",
       "</table>\n",
       "<table class=\"simpletable\">\n",
       "<tr>\n",
       "    <td></td>       <th>coef</th>     <th>std err</th>      <th>t</th>      <th>P>|t|</th>  <th>[0.025</th>    <th>0.975]</th>  \n",
       "</tr>\n",
       "<tr>\n",
       "  <th>const</th> <td>    2.1893</td> <td>    0.199</td> <td>   11.021</td> <td> 0.000</td> <td>    1.795</td> <td>    2.584</td>\n",
       "</tr>\n",
       "<tr>\n",
       "  <th>x1</th>    <td>    0.7046</td> <td>    0.637</td> <td>    1.107</td> <td> 0.271</td> <td>   -0.559</td> <td>    1.968</td>\n",
       "</tr>\n",
       "<tr>\n",
       "  <th>x2</th>    <td>    2.5024</td> <td>    1.140</td> <td>    2.194</td> <td> 0.031</td> <td>    0.239</td> <td>    4.766</td>\n",
       "</tr>\n",
       "</table>\n",
       "<table class=\"simpletable\">\n",
       "<tr>\n",
       "  <th>Omnibus:</th>       <td> 0.607</td> <th>  Durbin-Watson:     </th> <td>   2.111</td>\n",
       "</tr>\n",
       "<tr>\n",
       "  <th>Prob(Omnibus):</th> <td> 0.738</td> <th>  Jarque-Bera (JB):  </th> <td>   0.577</td>\n",
       "</tr>\n",
       "<tr>\n",
       "  <th>Skew:</th>          <td>-0.179</td> <th>  Prob(JB):          </th> <td>   0.749</td>\n",
       "</tr>\n",
       "<tr>\n",
       "  <th>Kurtosis:</th>      <td> 2.900</td> <th>  Cond. No.          </th> <td>    14.3</td>\n",
       "</tr>\n",
       "</table><br/><br/>Notes:<br/>[1] Standard Errors assume that the covariance matrix of the errors is correctly specified."
      ],
      "text/latex": [
       "\\begin{center}\n",
       "\\begin{tabular}{lclc}\n",
       "\\toprule\n",
       "\\textbf{Dep. Variable:}    &        y         & \\textbf{  R-squared:         } &     0.261   \\\\\n",
       "\\textbf{Model:}            &       OLS        & \\textbf{  Adj. R-squared:    } &     0.245   \\\\\n",
       "\\textbf{Method:}           &  Least Squares   & \\textbf{  F-statistic:       } &     17.09   \\\\\n",
       "\\textbf{Date:}             & Wed, 29 May 2024 & \\textbf{  Prob (F-statistic):} &  4.40e-07   \\\\\n",
       "\\textbf{Time:}             &     21:23:25     & \\textbf{  Log-Likelihood:    } &   -142.34   \\\\\n",
       "\\textbf{No. Observations:} &         100      & \\textbf{  AIC:               } &     290.7   \\\\\n",
       "\\textbf{Df Residuals:}     &          97      & \\textbf{  BIC:               } &     298.5   \\\\\n",
       "\\textbf{Df Model:}         &           2      & \\textbf{                     } &             \\\\\n",
       "\\textbf{Covariance Type:}  &    nonrobust     & \\textbf{                     } &             \\\\\n",
       "\\bottomrule\n",
       "\\end{tabular}\n",
       "\\begin{tabular}{lcccccc}\n",
       "               & \\textbf{coef} & \\textbf{std err} & \\textbf{t} & \\textbf{P$> |$t$|$} & \\textbf{[0.025} & \\textbf{0.975]}  \\\\\n",
       "\\midrule\n",
       "\\textbf{const} &       2.1893  &        0.199     &    11.021  &         0.000        &        1.795    &        2.584     \\\\\n",
       "\\textbf{x1}    &       0.7046  &        0.637     &     1.107  &         0.271        &       -0.559    &        1.968     \\\\\n",
       "\\textbf{x2}    &       2.5024  &        1.140     &     2.194  &         0.031        &        0.239    &        4.766     \\\\\n",
       "\\bottomrule\n",
       "\\end{tabular}\n",
       "\\begin{tabular}{lclc}\n",
       "\\textbf{Omnibus:}       &  0.607 & \\textbf{  Durbin-Watson:     } &    2.111  \\\\\n",
       "\\textbf{Prob(Omnibus):} &  0.738 & \\textbf{  Jarque-Bera (JB):  } &    0.577  \\\\\n",
       "\\textbf{Skew:}          & -0.179 & \\textbf{  Prob(JB):          } &    0.749  \\\\\n",
       "\\textbf{Kurtosis:}      &  2.900 & \\textbf{  Cond. No.          } &     14.3  \\\\\n",
       "\\bottomrule\n",
       "\\end{tabular}\n",
       "%\\caption{OLS Regression Results}\n",
       "\\end{center}\n",
       "\n",
       "Notes: \\newline\n",
       " [1] Standard Errors assume that the covariance matrix of the errors is correctly specified."
      ],
      "text/plain": [
       "<class 'statsmodels.iolib.summary.Summary'>\n",
       "\"\"\"\n",
       "                            OLS Regression Results                            \n",
       "==============================================================================\n",
       "Dep. Variable:                      y   R-squared:                       0.261\n",
       "Model:                            OLS   Adj. R-squared:                  0.245\n",
       "Method:                 Least Squares   F-statistic:                     17.09\n",
       "Date:                Wed, 29 May 2024   Prob (F-statistic):           4.40e-07\n",
       "Time:                        21:23:25   Log-Likelihood:                -142.34\n",
       "No. Observations:                 100   AIC:                             290.7\n",
       "Df Residuals:                      97   BIC:                             298.5\n",
       "Df Model:                           2                                         \n",
       "Covariance Type:            nonrobust                                         \n",
       "==============================================================================\n",
       "                 coef    std err          t      P>|t|      [0.025      0.975]\n",
       "------------------------------------------------------------------------------\n",
       "const          2.1893      0.199     11.021      0.000       1.795       2.584\n",
       "x1             0.7046      0.637      1.107      0.271      -0.559       1.968\n",
       "x2             2.5024      1.140      2.194      0.031       0.239       4.766\n",
       "==============================================================================\n",
       "Omnibus:                        0.607   Durbin-Watson:                   2.111\n",
       "Prob(Omnibus):                  0.738   Jarque-Bera (JB):                0.577\n",
       "Skew:                          -0.179   Prob(JB):                        0.749\n",
       "Kurtosis:                       2.900   Cond. No.                         14.3\n",
       "==============================================================================\n",
       "\n",
       "Notes:\n",
       "[1] Standard Errors assume that the covariance matrix of the errors is correctly specified.\n",
       "\"\"\""
      ]
     },
     "execution_count": 13,
     "metadata": {},
     "output_type": "execute_result"
    }
   ],
   "source": [
    "X = Data2[['x1', 'x2']]\n",
    "y = Data2[[\"y\"]]\n",
    "\n",
    "X = sm.add_constant(Data2[['x1', 'x2']])\n",
    "\n",
    "\n",
    "model = sm.OLS(y, X) # Hint: Use smf ols to fit regression to predict y using x1 and x2\n",
    "fit_both = model.fit()\n",
    "\n",
    "# your code here\n",
    "\n",
    "\n",
    "fit_both.summary()\n"
   ]
  },
  {
   "cell_type": "markdown",
   "id": "3b9515f4",
   "metadata": {
    "deletable": false,
    "editable": false,
    "nbgrader": {
     "cell_type": "markdown",
     "checksum": "4d8c8264b981f9f2cd04043336651b96",
     "grade": false,
     "grade_id": "cell-md-12",
     "locked": true,
     "schema_version": 3,
     "solution": false,
     "task": false
    }
   },
   "source": [
    "4. From the above summary\n",
    "- Fill in the estimates of coefficients. \n",
    "- At a 95% confidence level, can you reject the null hypothesis H0 : β2 = 0? "
   ]
  },
  {
   "cell_type": "code",
   "execution_count": 14,
   "id": "b6c6ba89",
   "metadata": {
    "deletable": false,
    "nbgrader": {
     "cell_type": "code",
     "checksum": "6510ddbdfed48396574c7ea5fb5e92e3",
     "grade": false,
     "grade_id": "cell-solution-8",
     "locked": false,
     "schema_version": 3,
     "solution": true,
     "task": false
    }
   },
   "outputs": [],
   "source": [
    "# Save your final solutions in these variable\n",
    "\n",
    "beta0 = 2.189 \n",
    "beta1 = 0.704\n",
    "beta2 = 2.502\n",
    "reject_hypothesis = True # Fill in this variable with either True or False for H0 : β2 = 0\n",
    "\n",
    "# your code here\n",
    "\n"
   ]
  },
  {
   "cell_type": "code",
   "execution_count": 15,
   "id": "c50160af",
   "metadata": {
    "deletable": false,
    "editable": false,
    "nbgrader": {
     "cell_type": "code",
     "checksum": "2cbc8c2ba6f8ea7f61e3880c391a7b3c",
     "grade": true,
     "grade_id": "cell-8108a4e9b615b0f8",
     "locked": true,
     "points": 30,
     "schema_version": 3,
     "solution": false,
     "task": false
    }
   },
   "outputs": [],
   "source": [
    "##########################\n",
    "### TEST YOUR SOLUTION ###\n",
    "##########################\n",
    "\n",
    "assert abs(beta0 - 2.189) < 0.001, \"Beta0 value is wrong. Please try again..\"\n",
    "assert abs(beta1 - 0.704) < 0.001, \"Beta1 value is wrong. Please try again..\"\n",
    "assert abs(beta2 - 2.502) < 0.001, \"Beta2 value is wrong. Please try again..\"\n",
    "assert reject_hypothesis == True, \"Your reject_hypothesis decision in wrong. Please try again.. \""
   ]
  },
  {
   "cell_type": "markdown",
   "id": "66f295d4",
   "metadata": {
    "deletable": false,
    "editable": false,
    "nbgrader": {
     "cell_type": "markdown",
     "checksum": "2b7ce415bf1703888365a097cefb2fab",
     "grade": false,
     "grade_id": "cell-md-13",
     "locked": true,
     "schema_version": 3,
     "solution": false,
     "task": false
    }
   },
   "source": [
    "5. Now fit a least squares regression to predict y using only x1."
   ]
  },
  {
   "cell_type": "code",
   "execution_count": 16,
   "id": "11919177",
   "metadata": {
    "deletable": false,
    "nbgrader": {
     "cell_type": "code",
     "checksum": "817adfb23668d49f7d190d4776632d5f",
     "grade": false,
     "grade_id": "cell-solution-10",
     "locked": false,
     "schema_version": 3,
     "solution": true,
     "task": false
    }
   },
   "outputs": [
    {
     "data": {
      "text/html": [
       "<table class=\"simpletable\">\n",
       "<caption>OLS Regression Results</caption>\n",
       "<tr>\n",
       "  <th>Dep. Variable:</th>            <td>y</td>        <th>  R-squared:         </th> <td>   0.224</td>\n",
       "</tr>\n",
       "<tr>\n",
       "  <th>Model:</th>                   <td>OLS</td>       <th>  Adj. R-squared:    </th> <td>   0.216</td>\n",
       "</tr>\n",
       "<tr>\n",
       "  <th>Method:</th>             <td>Least Squares</td>  <th>  F-statistic:       </th> <td>   28.26</td>\n",
       "</tr>\n",
       "<tr>\n",
       "  <th>Date:</th>             <td>Wed, 29 May 2024</td> <th>  Prob (F-statistic):</th> <td>6.68e-07</td>\n",
       "</tr>\n",
       "<tr>\n",
       "  <th>Time:</th>                 <td>21:23:25</td>     <th>  Log-Likelihood:    </th> <td> -144.76</td>\n",
       "</tr>\n",
       "<tr>\n",
       "  <th>No. Observations:</th>      <td>   100</td>      <th>  AIC:               </th> <td>   293.5</td>\n",
       "</tr>\n",
       "<tr>\n",
       "  <th>Df Residuals:</th>          <td>    98</td>      <th>  BIC:               </th> <td>   298.7</td>\n",
       "</tr>\n",
       "<tr>\n",
       "  <th>Df Model:</th>              <td>     1</td>      <th>                     </th>     <td> </td>   \n",
       "</tr>\n",
       "<tr>\n",
       "  <th>Covariance Type:</th>      <td>nonrobust</td>    <th>                     </th>     <td> </td>   \n",
       "</tr>\n",
       "</table>\n",
       "<table class=\"simpletable\">\n",
       "<tr>\n",
       "    <td></td>       <th>coef</th>     <th>std err</th>      <th>t</th>      <th>P>|t|</th>  <th>[0.025</th>    <th>0.975]</th>  \n",
       "</tr>\n",
       "<tr>\n",
       "  <th>const</th> <td>    2.2486</td> <td>    0.201</td> <td>   11.209</td> <td> 0.000</td> <td>    1.850</td> <td>    2.647</td>\n",
       "</tr>\n",
       "<tr>\n",
       "  <th>x1</th>    <td>    1.8770</td> <td>    0.353</td> <td>    5.316</td> <td> 0.000</td> <td>    1.176</td> <td>    2.578</td>\n",
       "</tr>\n",
       "</table>\n",
       "<table class=\"simpletable\">\n",
       "<tr>\n",
       "  <th>Omnibus:</th>       <td> 0.292</td> <th>  Durbin-Watson:     </th> <td>   2.123</td>\n",
       "</tr>\n",
       "<tr>\n",
       "  <th>Prob(Omnibus):</th> <td> 0.864</td> <th>  Jarque-Bera (JB):  </th> <td>   0.468</td>\n",
       "</tr>\n",
       "<tr>\n",
       "  <th>Skew:</th>          <td>-0.003</td> <th>  Prob(JB):          </th> <td>   0.791</td>\n",
       "</tr>\n",
       "<tr>\n",
       "  <th>Kurtosis:</th>      <td> 2.665</td> <th>  Cond. No.          </th> <td>    4.26</td>\n",
       "</tr>\n",
       "</table><br/><br/>Notes:<br/>[1] Standard Errors assume that the covariance matrix of the errors is correctly specified."
      ],
      "text/latex": [
       "\\begin{center}\n",
       "\\begin{tabular}{lclc}\n",
       "\\toprule\n",
       "\\textbf{Dep. Variable:}    &        y         & \\textbf{  R-squared:         } &     0.224   \\\\\n",
       "\\textbf{Model:}            &       OLS        & \\textbf{  Adj. R-squared:    } &     0.216   \\\\\n",
       "\\textbf{Method:}           &  Least Squares   & \\textbf{  F-statistic:       } &     28.26   \\\\\n",
       "\\textbf{Date:}             & Wed, 29 May 2024 & \\textbf{  Prob (F-statistic):} &  6.68e-07   \\\\\n",
       "\\textbf{Time:}             &     21:23:25     & \\textbf{  Log-Likelihood:    } &   -144.76   \\\\\n",
       "\\textbf{No. Observations:} &         100      & \\textbf{  AIC:               } &     293.5   \\\\\n",
       "\\textbf{Df Residuals:}     &          98      & \\textbf{  BIC:               } &     298.7   \\\\\n",
       "\\textbf{Df Model:}         &           1      & \\textbf{                     } &             \\\\\n",
       "\\textbf{Covariance Type:}  &    nonrobust     & \\textbf{                     } &             \\\\\n",
       "\\bottomrule\n",
       "\\end{tabular}\n",
       "\\begin{tabular}{lcccccc}\n",
       "               & \\textbf{coef} & \\textbf{std err} & \\textbf{t} & \\textbf{P$> |$t$|$} & \\textbf{[0.025} & \\textbf{0.975]}  \\\\\n",
       "\\midrule\n",
       "\\textbf{const} &       2.2486  &        0.201     &    11.209  &         0.000        &        1.850    &        2.647     \\\\\n",
       "\\textbf{x1}    &       1.8770  &        0.353     &     5.316  &         0.000        &        1.176    &        2.578     \\\\\n",
       "\\bottomrule\n",
       "\\end{tabular}\n",
       "\\begin{tabular}{lclc}\n",
       "\\textbf{Omnibus:}       &  0.292 & \\textbf{  Durbin-Watson:     } &    2.123  \\\\\n",
       "\\textbf{Prob(Omnibus):} &  0.864 & \\textbf{  Jarque-Bera (JB):  } &    0.468  \\\\\n",
       "\\textbf{Skew:}          & -0.003 & \\textbf{  Prob(JB):          } &    0.791  \\\\\n",
       "\\textbf{Kurtosis:}      &  2.665 & \\textbf{  Cond. No.          } &     4.26  \\\\\n",
       "\\bottomrule\n",
       "\\end{tabular}\n",
       "%\\caption{OLS Regression Results}\n",
       "\\end{center}\n",
       "\n",
       "Notes: \\newline\n",
       " [1] Standard Errors assume that the covariance matrix of the errors is correctly specified."
      ],
      "text/plain": [
       "<class 'statsmodels.iolib.summary.Summary'>\n",
       "\"\"\"\n",
       "                            OLS Regression Results                            \n",
       "==============================================================================\n",
       "Dep. Variable:                      y   R-squared:                       0.224\n",
       "Model:                            OLS   Adj. R-squared:                  0.216\n",
       "Method:                 Least Squares   F-statistic:                     28.26\n",
       "Date:                Wed, 29 May 2024   Prob (F-statistic):           6.68e-07\n",
       "Time:                        21:23:25   Log-Likelihood:                -144.76\n",
       "No. Observations:                 100   AIC:                             293.5\n",
       "Df Residuals:                      98   BIC:                             298.7\n",
       "Df Model:                           1                                         \n",
       "Covariance Type:            nonrobust                                         \n",
       "==============================================================================\n",
       "                 coef    std err          t      P>|t|      [0.025      0.975]\n",
       "------------------------------------------------------------------------------\n",
       "const          2.2486      0.201     11.209      0.000       1.850       2.647\n",
       "x1             1.8770      0.353      5.316      0.000       1.176       2.578\n",
       "==============================================================================\n",
       "Omnibus:                        0.292   Durbin-Watson:                   2.123\n",
       "Prob(Omnibus):                  0.864   Jarque-Bera (JB):                0.468\n",
       "Skew:                          -0.003   Prob(JB):                        0.791\n",
       "Kurtosis:                       2.665   Cond. No.                         4.26\n",
       "==============================================================================\n",
       "\n",
       "Notes:\n",
       "[1] Standard Errors assume that the covariance matrix of the errors is correctly specified.\n",
       "\"\"\""
      ]
     },
     "execution_count": 16,
     "metadata": {},
     "output_type": "execute_result"
    }
   ],
   "source": [
    "X = Data2[['x1']]\n",
    "y = Data2[[\"y\"]]\n",
    "\n",
    "X = sm.add_constant(Data2[['x1']])\n",
    "\n",
    "\n",
    "model_x1 = sm.OLS(y, X) \n",
    "\n",
    "fit_x1_only = model_x1.fit() # Hint: Use smf ols to fit regression to predict y using only x1 \n",
    "\n",
    "# your code here\n",
    "\n",
    "\n",
    "fit_x1_only.summary()"
   ]
  },
  {
   "cell_type": "markdown",
   "id": "58887065",
   "metadata": {
    "deletable": false,
    "editable": false,
    "nbgrader": {
     "cell_type": "markdown",
     "checksum": "8066cbcdf3ae3f0331a60650b74c0fbd",
     "grade": false,
     "grade_id": "cell-md-14",
     "locked": true,
     "schema_version": 3,
     "solution": false,
     "task": false
    }
   },
   "source": [
    "6. At a 95% confidence level, can you reject the null hypothesis H0 : β1 = 0?"
   ]
  },
  {
   "cell_type": "code",
   "execution_count": 17,
   "id": "26f4a435",
   "metadata": {
    "deletable": false,
    "nbgrader": {
     "cell_type": "code",
     "checksum": "9d69a90cb6ba5921b6afaf509756cbce",
     "grade": false,
     "grade_id": "cell-solution-108",
     "locked": false,
     "schema_version": 3,
     "solution": true,
     "task": false
    }
   },
   "outputs": [],
   "source": [
    "reject_hypothesis = True  # Fill in this variable with either True or False for H0 : β1 = 0\n",
    "\n",
    "# your code here\n"
   ]
  },
  {
   "cell_type": "code",
   "execution_count": 18,
   "id": "5eb78354",
   "metadata": {
    "deletable": false,
    "editable": false,
    "nbgrader": {
     "cell_type": "code",
     "checksum": "d9aff09973a882622b85a0e7adf56eaa",
     "grade": true,
     "grade_id": "cell-solution-118",
     "locked": true,
     "points": 10,
     "schema_version": 3,
     "solution": false
    }
   },
   "outputs": [],
   "source": [
    "##########################\n",
    "### TEST YOUR SOLUTION ###\n",
    "##########################\n",
    "\n",
    "assert reject_hypothesis == True, \"Your reject_hypothesis decision in wrong. Please try again.. \""
   ]
  },
  {
   "cell_type": "markdown",
   "id": "1ff18165",
   "metadata": {
    "deletable": false,
    "editable": false,
    "nbgrader": {
     "cell_type": "markdown",
     "checksum": "800dd98a61959fe6f6a22bdeb1766405",
     "grade": false,
     "grade_id": "cell-md-132",
     "locked": true,
     "schema_version": 3,
     "solution": false,
     "task": false
    }
   },
   "source": [
    "7. Now fit a least squares regression to predict y using only x2"
   ]
  },
  {
   "cell_type": "code",
   "execution_count": 19,
   "id": "4d6bbc37",
   "metadata": {
    "deletable": false,
    "nbgrader": {
     "cell_type": "code",
     "checksum": "53e9572c4491c151e62acabaadc3bbc5",
     "grade": false,
     "grade_id": "cell-solution-102",
     "locked": false,
     "schema_version": 3,
     "solution": true,
     "task": false
    }
   },
   "outputs": [
    {
     "data": {
      "text/html": [
       "<table class=\"simpletable\">\n",
       "<caption>OLS Regression Results</caption>\n",
       "<tr>\n",
       "  <th>Dep. Variable:</th>            <td>y</td>        <th>  R-squared:         </th> <td>   0.251</td>\n",
       "</tr>\n",
       "<tr>\n",
       "  <th>Model:</th>                   <td>OLS</td>       <th>  Adj. R-squared:    </th> <td>   0.244</td>\n",
       "</tr>\n",
       "<tr>\n",
       "  <th>Method:</th>             <td>Least Squares</td>  <th>  F-statistic:       </th> <td>   32.87</td>\n",
       "</tr>\n",
       "<tr>\n",
       "  <th>Date:</th>             <td>Wed, 29 May 2024</td> <th>  Prob (F-statistic):</th> <td>1.09e-07</td>\n",
       "</tr>\n",
       "<tr>\n",
       "  <th>Time:</th>                 <td>21:23:25</td>     <th>  Log-Likelihood:    </th> <td> -142.97</td>\n",
       "</tr>\n",
       "<tr>\n",
       "  <th>No. Observations:</th>      <td>   100</td>      <th>  AIC:               </th> <td>   289.9</td>\n",
       "</tr>\n",
       "<tr>\n",
       "  <th>Df Residuals:</th>          <td>    98</td>      <th>  BIC:               </th> <td>   295.1</td>\n",
       "</tr>\n",
       "<tr>\n",
       "  <th>Df Model:</th>              <td>     1</td>      <th>                     </th>     <td> </td>   \n",
       "</tr>\n",
       "<tr>\n",
       "  <th>Covariance Type:</th>      <td>nonrobust</td>    <th>                     </th>     <td> </td>   \n",
       "</tr>\n",
       "</table>\n",
       "<table class=\"simpletable\">\n",
       "<tr>\n",
       "    <td></td>       <th>coef</th>     <th>std err</th>      <th>t</th>      <th>P>|t|</th>  <th>[0.025</th>    <th>0.975]</th>  \n",
       "</tr>\n",
       "<tr>\n",
       "  <th>const</th> <td>    2.2655</td> <td>    0.187</td> <td>   12.145</td> <td> 0.000</td> <td>    1.895</td> <td>    2.636</td>\n",
       "</tr>\n",
       "<tr>\n",
       "  <th>x2</th>    <td>    3.5613</td> <td>    0.621</td> <td>    5.733</td> <td> 0.000</td> <td>    2.329</td> <td>    4.794</td>\n",
       "</tr>\n",
       "</table>\n",
       "<table class=\"simpletable\">\n",
       "<tr>\n",
       "  <th>Omnibus:</th>       <td> 0.857</td> <th>  Durbin-Watson:     </th> <td>   2.117</td>\n",
       "</tr>\n",
       "<tr>\n",
       "  <th>Prob(Omnibus):</th> <td> 0.651</td> <th>  Jarque-Bera (JB):  </th> <td>   0.746</td>\n",
       "</tr>\n",
       "<tr>\n",
       "  <th>Skew:</th>          <td>-0.210</td> <th>  Prob(JB):          </th> <td>   0.689</td>\n",
       "</tr>\n",
       "<tr>\n",
       "  <th>Kurtosis:</th>      <td> 2.946</td> <th>  Cond. No.          </th> <td>    6.48</td>\n",
       "</tr>\n",
       "</table><br/><br/>Notes:<br/>[1] Standard Errors assume that the covariance matrix of the errors is correctly specified."
      ],
      "text/latex": [
       "\\begin{center}\n",
       "\\begin{tabular}{lclc}\n",
       "\\toprule\n",
       "\\textbf{Dep. Variable:}    &        y         & \\textbf{  R-squared:         } &     0.251   \\\\\n",
       "\\textbf{Model:}            &       OLS        & \\textbf{  Adj. R-squared:    } &     0.244   \\\\\n",
       "\\textbf{Method:}           &  Least Squares   & \\textbf{  F-statistic:       } &     32.87   \\\\\n",
       "\\textbf{Date:}             & Wed, 29 May 2024 & \\textbf{  Prob (F-statistic):} &  1.09e-07   \\\\\n",
       "\\textbf{Time:}             &     21:23:25     & \\textbf{  Log-Likelihood:    } &   -142.97   \\\\\n",
       "\\textbf{No. Observations:} &         100      & \\textbf{  AIC:               } &     289.9   \\\\\n",
       "\\textbf{Df Residuals:}     &          98      & \\textbf{  BIC:               } &     295.1   \\\\\n",
       "\\textbf{Df Model:}         &           1      & \\textbf{                     } &             \\\\\n",
       "\\textbf{Covariance Type:}  &    nonrobust     & \\textbf{                     } &             \\\\\n",
       "\\bottomrule\n",
       "\\end{tabular}\n",
       "\\begin{tabular}{lcccccc}\n",
       "               & \\textbf{coef} & \\textbf{std err} & \\textbf{t} & \\textbf{P$> |$t$|$} & \\textbf{[0.025} & \\textbf{0.975]}  \\\\\n",
       "\\midrule\n",
       "\\textbf{const} &       2.2655  &        0.187     &    12.145  &         0.000        &        1.895    &        2.636     \\\\\n",
       "\\textbf{x2}    &       3.5613  &        0.621     &     5.733  &         0.000        &        2.329    &        4.794     \\\\\n",
       "\\bottomrule\n",
       "\\end{tabular}\n",
       "\\begin{tabular}{lclc}\n",
       "\\textbf{Omnibus:}       &  0.857 & \\textbf{  Durbin-Watson:     } &    2.117  \\\\\n",
       "\\textbf{Prob(Omnibus):} &  0.651 & \\textbf{  Jarque-Bera (JB):  } &    0.746  \\\\\n",
       "\\textbf{Skew:}          & -0.210 & \\textbf{  Prob(JB):          } &    0.689  \\\\\n",
       "\\textbf{Kurtosis:}      &  2.946 & \\textbf{  Cond. No.          } &     6.48  \\\\\n",
       "\\bottomrule\n",
       "\\end{tabular}\n",
       "%\\caption{OLS Regression Results}\n",
       "\\end{center}\n",
       "\n",
       "Notes: \\newline\n",
       " [1] Standard Errors assume that the covariance matrix of the errors is correctly specified."
      ],
      "text/plain": [
       "<class 'statsmodels.iolib.summary.Summary'>\n",
       "\"\"\"\n",
       "                            OLS Regression Results                            \n",
       "==============================================================================\n",
       "Dep. Variable:                      y   R-squared:                       0.251\n",
       "Model:                            OLS   Adj. R-squared:                  0.244\n",
       "Method:                 Least Squares   F-statistic:                     32.87\n",
       "Date:                Wed, 29 May 2024   Prob (F-statistic):           1.09e-07\n",
       "Time:                        21:23:25   Log-Likelihood:                -142.97\n",
       "No. Observations:                 100   AIC:                             289.9\n",
       "Df Residuals:                      98   BIC:                             295.1\n",
       "Df Model:                           1                                         \n",
       "Covariance Type:            nonrobust                                         \n",
       "==============================================================================\n",
       "                 coef    std err          t      P>|t|      [0.025      0.975]\n",
       "------------------------------------------------------------------------------\n",
       "const          2.2655      0.187     12.145      0.000       1.895       2.636\n",
       "x2             3.5613      0.621      5.733      0.000       2.329       4.794\n",
       "==============================================================================\n",
       "Omnibus:                        0.857   Durbin-Watson:                   2.117\n",
       "Prob(Omnibus):                  0.651   Jarque-Bera (JB):                0.746\n",
       "Skew:                          -0.210   Prob(JB):                        0.689\n",
       "Kurtosis:                       2.946   Cond. No.                         6.48\n",
       "==============================================================================\n",
       "\n",
       "Notes:\n",
       "[1] Standard Errors assume that the covariance matrix of the errors is correctly specified.\n",
       "\"\"\""
      ]
     },
     "execution_count": 19,
     "metadata": {},
     "output_type": "execute_result"
    }
   ],
   "source": [
    "X = Data2[['x2']]\n",
    "y = Data2[[\"y\"]]\n",
    "\n",
    "X = sm.add_constant(Data2[['x2']])\n",
    "\n",
    "\n",
    "model_x2 = sm.OLS(y, X) \n",
    "\n",
    "\n",
    "fit_x2_only = model_x2.fit() # Hint: Use smf ols to fit regression to predict y using only x2 \n",
    "\n",
    "# your code here\n",
    "\n",
    "\n",
    "fit_x2_only.summary()"
   ]
  },
  {
   "cell_type": "markdown",
   "id": "60f44bd2",
   "metadata": {
    "deletable": false,
    "editable": false,
    "nbgrader": {
     "cell_type": "markdown",
     "checksum": "84ffcc6f9fb6d1fbfd57bcdc0bfca811",
     "grade": false,
     "grade_id": "cell-md-13d",
     "locked": true,
     "schema_version": 3,
     "solution": false,
     "task": false
    }
   },
   "source": [
    "8. At a 95% confidence level, can you reject the null hypothesis H0 : β1 = 0?"
   ]
  },
  {
   "cell_type": "code",
   "execution_count": 20,
   "id": "221621c4",
   "metadata": {
    "deletable": false,
    "nbgrader": {
     "cell_type": "code",
     "checksum": "8ed33c8cdbb1a06924f5fb8e8fff42f1",
     "grade": false,
     "grade_id": "cell-solution-104",
     "locked": false,
     "schema_version": 3,
     "solution": true,
     "task": false
    }
   },
   "outputs": [],
   "source": [
    "reject_hypothesis = False # Fill in this variable with either True or False for H0 : β1 = 0\n",
    "\n",
    "# your code here\n"
   ]
  },
  {
   "cell_type": "code",
   "execution_count": 21,
   "id": "ac56bed8",
   "metadata": {
    "deletable": false,
    "editable": false,
    "nbgrader": {
     "cell_type": "code",
     "checksum": "c1bf3a16ceb38ed38d5c1f54e051e83d",
     "grade": true,
     "grade_id": "cell-solution-114",
     "locked": true,
     "points": 10,
     "schema_version": 3,
     "solution": false
    }
   },
   "outputs": [],
   "source": [
    "##########################\n",
    "### TEST YOUR SOLUTION ###\n",
    "##########################\n",
    "\n",
    "assert reject_hypothesis == False, \"Your reject_hypothesis decision in wrong. Please try again.. \""
   ]
  }
 ],
 "metadata": {
  "kernelspec": {
   "display_name": "Python 3 (ipykernel)",
   "language": "python",
   "name": "python3"
  },
  "language_info": {
   "codemirror_mode": {
    "name": "ipython",
    "version": 3
   },
   "file_extension": ".py",
   "mimetype": "text/x-python",
   "name": "python",
   "nbconvert_exporter": "python",
   "pygments_lexer": "ipython3",
   "version": "3.8.18"
  }
 },
 "nbformat": 4,
 "nbformat_minor": 5
}
