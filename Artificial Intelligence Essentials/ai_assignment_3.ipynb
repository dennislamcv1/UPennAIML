{
 "cells": [
  {
   "cell_type": "markdown",
   "id": "61d2211e",
   "metadata": {
    "nbgrader": {
     "grade": false,
     "grade_id": "cell-md-1",
     "locked": false,
     "schema_version": 3,
     "solution": false,
     "task": false
    }
   },
   "source": [
    "# Assignment 3: Informed Search"
   ]
  },
  {
   "cell_type": "markdown",
   "id": "f9f70e57",
   "metadata": {
    "nbgrader": {
     "grade": false,
     "grade_id": "cell-md-2",
     "locked": false,
     "schema_version": 3,
     "solution": false,
     "task": false
    }
   },
   "source": [
    "##  Grid Navigation\n",
    "In this section, you will investigate the problem of navigation on a two dimensional grid with obstacles. The goal is to produce the shortest path between a provided pair of points, taking care to maneuver around the obstacles as needed. Path length is measured in Euclidean distance. Valid directions of movement include up, down, left, right, up-left, up-right, down-left, and down-right. \n",
    "\n",
    "### Note:\n",
    "You are expected to write code where you see **your code here**.  \n",
    "Make sure you delete the lines with **pass** and **raise NotImplementedError** or your code may not run correctly."
   ]
  },
  {
   "cell_type": "markdown",
   "id": "9215f856",
   "metadata": {},
   "source": [
    "### Task\n",
    "Your task is to write a function find_path(start, goal, scene) which returns the shortest path from the start point to the goal point that avoids traveling through the obstacles in the grid. \n",
    "\n",
    "### Structure/Representation\n",
    "For this problem, points will be represented as two-element tuples of the form (row, column), and scenes will be represented as two-dimensional lists of Boolean values, with False values corresponding empty spaces and True values corresponding to obstacles. \n",
    "\n",
    "### Output\n",
    "Your output should be the list of points in the path, and should explicitly include both the start point and the goal point. If multiple optimal solutions exist, any of them may be returned. If no optimal solutions exist, or if the start point or goal point lies on an obstacle, you should return the sentinal value None. If start and goal state are the same, return None.\n",
    "\n",
    "### Implementation\n",
    "Your implementation should consist of \n",
    "* an A* search \n",
    "* the straight-line Euclidean distance heuristic. \n",
    "\n",
    "Helper functions are allowed and encouraged."
   ]
  },
  {
   "cell_type": "markdown",
   "id": "c0c5968b",
   "metadata": {},
   "source": [
    "## 1. Euclidean distance\n",
    "First, let's define a function used for euclidean distance."
   ]
  },
  {
   "cell_type": "code",
   "execution_count": 1,
   "id": "8febad80",
   "metadata": {
    "deletable": false,
    "nbgrader": {
     "cell_type": "code",
     "checksum": "3b5283256fb4aaab8f7c47f83109374c",
     "grade": false,
     "grade_id": "cell-solution-1",
     "locked": false,
     "schema_version": 3,
     "solution": true,
     "task": false
    }
   },
   "outputs": [],
   "source": [
    "############################################################\n",
    "# Section 1 Grid Navigation - Euclidiean distance\n",
    "############################################################\n",
    "import math\n",
    "\n",
    "def grid_euclidean_distance(current_state, goal_state):\n",
    "    return math.sqrt((current_state[0] - goal_state[0])**2 + (current_state[1] - goal_state[1])**2)\n",
    "    \n",
    "    # your code here\n",
    "    \n"
   ]
  },
  {
   "cell_type": "code",
   "execution_count": 2,
   "id": "88cd438d",
   "metadata": {
    "deletable": false,
    "editable": false,
    "nbgrader": {
     "cell_type": "code",
     "checksum": "e28be9314694078d77c171f6df356e4d",
     "grade": true,
     "grade_id": "cell-test-1",
     "locked": true,
     "points": 25,
     "schema_version": 3,
     "solution": false,
     "task": false
    }
   },
   "outputs": [
    {
     "name": "stdout",
     "output_type": "stream",
     "text": [
      "test passed!\n"
     ]
    }
   ],
   "source": [
    "##########################\n",
    "### TEST YOUR SOLUTION ###\n",
    "##########################\n",
    "\n",
    "current_state1, goal_state1 = (1,1), (1,1)\n",
    "assert grid_euclidean_distance(current_state1, goal_state1) == 0\n",
    "\n",
    "current_state2, goal_state2 = (1,2), (1,1)\n",
    "assert grid_euclidean_distance(current_state2, goal_state2) == 1\n",
    "\n",
    "current_state3, goal_state3 = (3,2), (1,2)\n",
    "assert grid_euclidean_distance(current_state3, goal_state3) == 2\n",
    "\n",
    "current_state4, goal_state4 = (1,1), (2,2)\n",
    "assert grid_euclidean_distance(current_state4, goal_state4) == 2**0.5\n",
    "print(\"test passed!\")"
   ]
  },
  {
   "cell_type": "markdown",
   "id": "bf066820",
   "metadata": {},
   "source": [
    "## 2. Helper functions\n",
    "Next, let's define a functions that finds the successors."
   ]
  },
  {
   "cell_type": "code",
   "execution_count": 3,
   "id": "cc910f96",
   "metadata": {
    "deletable": false,
    "nbgrader": {
     "cell_type": "code",
     "checksum": "0b51aeecab225fcbbbe50b94e3849452",
     "grade": false,
     "grade_id": "cell-solution-2",
     "locked": false,
     "schema_version": 3,
     "solution": true,
     "task": false
    }
   },
   "outputs": [],
   "source": [
    "# your code here\n",
    "\n",
    "\n",
    "def grid_successors(current, scene):\n",
    "    # assuming current is not at a false position\n",
    "    rows, cols = len(scene), len(scene[0])\n",
    "    successors = []\n",
    "    \n",
    "    # Define the 8 possible movements\n",
    "    movements = [(-1, 0), (1, 0), (0, -1), (0, 1), (-1, -1), (-1, 1), (1, -1), (1, 1)]\n",
    "    \n",
    "    for move in movements:\n",
    "        new_row, new_col = current[0] + move[0], current[1] + move[1]\n",
    "        if 0 <= new_row < rows and 0 <= new_col < cols and not scene[new_row][new_col]:\n",
    "            successors.append((new_row, new_col))\n",
    "    \n",
    "    return tuple(successors)"
   ]
  },
  {
   "cell_type": "code",
   "execution_count": 4,
   "id": "1a680e8d",
   "metadata": {
    "deletable": false,
    "editable": false,
    "nbgrader": {
     "cell_type": "code",
     "checksum": "28725f52cdd8c5f27bced623db50834a",
     "grade": true,
     "grade_id": "cell-test-2",
     "locked": true,
     "points": 25,
     "schema_version": 3,
     "solution": false,
     "task": false
    }
   },
   "outputs": [
    {
     "name": "stdout",
     "output_type": "stream",
     "text": [
      "test passed!\n"
     ]
    }
   ],
   "source": [
    "scene1 = [[True, True, True],\n",
    "         [False, False, True]]\n",
    "assert grid_successors((1, 2), scene1) == ((1, 1),)\n",
    "assert grid_successors((0, 1), scene1) == ((1, 1),(1, 0),)\n",
    "print(\"test passed!\")"
   ]
  },
  {
   "cell_type": "markdown",
   "id": "29b10fb3",
   "metadata": {},
   "source": [
    "## 3. Find path\n",
    "Finally let's implement the path search."
   ]
  },
  {
   "cell_type": "code",
   "execution_count": 5,
   "id": "e39a8a19",
   "metadata": {
    "deletable": false,
    "nbgrader": {
     "cell_type": "code",
     "checksum": "8372149092be2661f608daeaeff6cabd",
     "grade": false,
     "grade_id": "cell-solution-3",
     "locked": false,
     "schema_version": 3,
     "solution": true
    }
   },
   "outputs": [],
   "source": [
    "############################################################\n",
    "# Grid Navigation\n",
    "############################################################\n",
    "import collections, itertools, queue, random, copy, heapq\n",
    "\n",
    " \n",
    "def find_path(start, goal, scene):\n",
    "    rows, cols = len(scene), len(scene[0])\n",
    "    \n",
    "    if scene[start[0]][start[1]] or scene[goal[0]][goal[1]] or start == goal:\n",
    "        return None\n",
    "    \n",
    "    open_set = []\n",
    "    heapq.heappush(open_set, (0 + grid_euclidean_distance(start, goal), 0, start))\n",
    "    \n",
    "    came_from = {}\n",
    "    g_score = {start: 0}\n",
    "    \n",
    "    while open_set:\n",
    "        _, current_g, current = heapq.heappop(open_set)\n",
    "        \n",
    "        if current == goal:\n",
    "            path = []\n",
    "            while current in came_from:\n",
    "                path.append(current)\n",
    "                current = came_from[current]\n",
    "            path.append(start)\n",
    "            path.reverse()\n",
    "            return path\n",
    "        \n",
    "        for neighbor in grid_successors(current, scene):\n",
    "            tentative_g_score = current_g + grid_euclidean_distance(current, neighbor)\n",
    "            if neighbor not in g_score or tentative_g_score < g_score[neighbor]:\n",
    "                came_from[neighbor] = current\n",
    "                g_score[neighbor] = tentative_g_score\n",
    "                f_score = tentative_g_score + grid_euclidean_distance(neighbor, goal)\n",
    "                heapq.heappush(open_set, (f_score, tentative_g_score, neighbor))\n",
    "    \n",
    "    return None\n",
    "\n",
    "    # your code here\n",
    " \n"
   ]
  },
  {
   "cell_type": "code",
   "execution_count": 6,
   "id": "b5b36f30",
   "metadata": {
    "deletable": false,
    "editable": false,
    "nbgrader": {
     "cell_type": "code",
     "checksum": "1127464d81b5f762e4a75b862714dda4",
     "grade": true,
     "grade_id": "cell-test-3",
     "locked": true,
     "points": 50,
     "schema_version": 3,
     "solution": false,
     "task": false
    }
   },
   "outputs": [
    {
     "name": "stdout",
     "output_type": "stream",
     "text": [
      "test passed!\n"
     ]
    }
   ],
   "source": [
    "##########################\n",
    "### TEST YOUR SOLUTION ###\n",
    "##########################\n",
    "scene1 = [[False, False, False], \n",
    "          [False, True , False], \n",
    "          [False, False, False]] \n",
    "\n",
    "assert find_path((0, 0), (2, 1), scene1) == [(0, 0), (1, 0), (2, 1)] \n",
    "\n",
    "scene2 = [[False, True, False], \n",
    "          [False, True, False], \n",
    "          [False, True, False]] \n",
    "assert find_path((0, 0), (0, 2), scene2) is None\n",
    "print(\"test passed!\")"
   ]
  },
  {
   "cell_type": "code",
   "execution_count": null,
   "id": "897909b6",
   "metadata": {},
   "outputs": [],
   "source": []
  }
 ],
 "metadata": {
  "kernelspec": {
   "display_name": "Python 3 (ipykernel)",
   "language": "python",
   "name": "python3"
  },
  "language_info": {
   "codemirror_mode": {
    "name": "ipython",
    "version": 3
   },
   "file_extension": ".py",
   "mimetype": "text/x-python",
   "name": "python",
   "nbconvert_exporter": "python",
   "pygments_lexer": "ipython3",
   "version": "3.10.6"
  }
 },
 "nbformat": 4,
 "nbformat_minor": 5
}
