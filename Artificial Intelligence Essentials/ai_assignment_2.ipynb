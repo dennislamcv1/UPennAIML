{
 "cells": [
  {
   "cell_type": "markdown",
   "id": "61d2211e",
   "metadata": {
    "nbgrader": {
     "grade": false,
     "grade_id": "cell-md-1",
     "locked": false,
     "schema_version": 3,
     "solution": false,
     "task": false
    }
   },
   "source": [
    "# Assignment 2: Uninformed Search"
   ]
  },
  {
   "cell_type": "markdown",
   "id": "f9f70e57",
   "metadata": {
    "nbgrader": {
     "grade": false,
     "grade_id": "cell-md-2",
     "locked": false,
     "schema_version": 3,
     "solution": false,
     "task": false
    }
   },
   "source": [
    "## N-Queens\n",
    "Here, you will explore N-Queens classic puzzles from the perspective of\n",
    "uninformed search. \n",
    "In this section, you will develop a solver for the n-queens problem, where in n\n",
    "queens are to be placed on an n × n chessboard so that no pair of queens can\n",
    "attack each other. Recall that in chess, a queen can attack any piece that lies in\n",
    "the same row, column, or diagonal as itself.\n",
    "\n",
    "### Note:\n",
    "You are expected to write code where you see **your code here**.  \n",
    "Make sure you delete the lines with **pass** and **raise NotImplementedError** or your code may not run correctly."
   ]
  },
  {
   "cell_type": "markdown",
   "id": "9215f856",
   "metadata": {},
   "source": [
    "### Section 1: Calculate the number of possible placements of N-Queens on an n × n board\n",
    "Rather than performing a search over all possible placements\n",
    "of queens on the board, it is sufficient to consider only those configurations\n",
    "for which each row contains exactly one queen."
   ]
  },
  {
   "cell_type": "markdown",
   "id": "0307182a",
   "metadata": {},
   "source": [
    "Implement the function num_placements_all(n), which returns the number of all possible placements of n queens on an n × n board without taking any of the chess-specific constraints between queens into account, and the function num_placements_one_per_row(n) that calculates the number of possible placements of n queens on an n × n board such that each row contains exactly one queen.\n",
    "\n",
    "Think carefully about why this restriction is valid, and note the extent to\n",
    "which it reduces the size of the search space. You should assume that all\n",
    "queens are indistinguishable for the purposes of your calculations."
   ]
  },
  {
   "cell_type": "code",
   "execution_count": 1,
   "id": "e39a8a19",
   "metadata": {
    "deletable": false,
    "nbgrader": {
     "cell_type": "code",
     "checksum": "2b694200770084d4e9d6015d5aed6590",
     "grade": false,
     "grade_id": "cell-solution-1",
     "locked": false,
     "schema_version": 3,
     "solution": true
    }
   },
   "outputs": [],
   "source": [
    "############################################################\n",
    "# Section 1: Implement the function num_placements_all and num_placements_one_per_row\n",
    "############################################################\n",
    "\n",
    "import math\n",
    "\n",
    "def num_placements_all(n):\n",
    "    return math.comb(n * n, n)\n",
    "\n",
    "# your code here\n",
    "\n",
    "\n",
    "def num_placements_one_per_row(n):\n",
    "    return n ** n\n",
    "\n",
    "# your code here\n"
   ]
  },
  {
   "cell_type": "code",
   "execution_count": 2,
   "id": "30c57aee",
   "metadata": {
    "deletable": false,
    "editable": false,
    "nbgrader": {
     "cell_type": "code",
     "checksum": "ccbf51889ec79a079c3584f36918c77e",
     "grade": true,
     "grade_id": "cell-test-1",
     "locked": true,
     "points": 20,
     "schema_version": 3,
     "solution": false
    }
   },
   "outputs": [
    {
     "name": "stdout",
     "output_type": "stream",
     "text": [
      "test passed!\n"
     ]
    }
   ],
   "source": [
    "##########################\n",
    "### TEST YOUR SOLUTION ###\n",
    "##########################\n",
    "# concatenate test\n",
    "num_placements_all_test = num_placements_all(8)\n",
    "assert num_placements_all_test == 4426165368, \"review the calculation\"\n",
    "num_placements_one_per_row_test = num_placements_one_per_row(8)\n",
    "assert num_placements_one_per_row_test == 16777216, \"review the calculation\"\n",
    "print(\"test passed!\")\n"
   ]
  },
  {
   "cell_type": "markdown",
   "id": "60a187f2",
   "metadata": {
    "nbgrader": {
     "grade": false,
     "grade_id": "cell-md-3",
     "locked": false,
     "schema_version": 3,
     "solution": false,
     "task": false
    }
   },
   "source": [
    "### Section 2: Valid queen position check\n",
    "Write a function n_queens_valid(board) that accepts such a list and returns True if no queen can attack another, or False otherwise. Note that the board size need not be included as an additional argument to decide whether a particular list is valid."
   ]
  },
  {
   "cell_type": "markdown",
   "id": "bfd0474d",
   "metadata": {},
   "source": [
    "With the answer to the previous question in mind, a sensible representation for a board configuration is a list of numbers between 0 and n−1, where the ith number designates the column of the queen in row i for 0 < i ≤ n. A complete configuration is then specified by a list containing n numbers, and a partial configuration is specified by a list containing fewer than n numbers. Write a function n_queens_valid(board) that accepts such a list and returns True if no queen can attack another, or False otherwise. Note that the board size need not be included as an additional argument to decide whether a particular list is valid."
   ]
  },
  {
   "cell_type": "markdown",
   "id": "7a1130b8",
   "metadata": {},
   "source": [
    "Instead of directly implementing the whole function of n_queens_valid, we could break down the final function into several sub functions:\n",
    "1) diag_okay(row1,col1,row2,col2) \n",
    "This function aims to check whether the queens position satisfy the diagnal constraint\n",
    "2) cross_okay(row1,col1,row2,col2) \n",
    "This function aims to check whether the queens position satisfy the rows and columns constraint\n",
    "3) move_allowed(row1,col1,row2,col2) \n",
    "This function put together the function diag_okay and the function cross_okay you already implemented to make the complete check"
   ]
  },
  {
   "cell_type": "markdown",
   "id": "f6ec4dba",
   "metadata": {},
   "source": [
    "#### diag_okay function "
   ]
  },
  {
   "cell_type": "code",
   "execution_count": 3,
   "id": "59b07e0a",
   "metadata": {
    "deletable": false,
    "nbgrader": {
     "cell_type": "code",
     "checksum": "53642a30c61e6ed791f6166013ff5dfa",
     "grade": false,
     "grade_id": "cell-solution-2",
     "locked": false,
     "schema_version": 3,
     "solution": true
    }
   },
   "outputs": [],
   "source": [
    "def diag_okay(row1,col1,row2,col2):\n",
    "    return abs(row1 - row2) != abs(col1 - col2)\n",
    "# your code here\n",
    "\n"
   ]
  },
  {
   "cell_type": "code",
   "execution_count": 4,
   "id": "9b66decc",
   "metadata": {
    "deletable": false,
    "editable": false,
    "nbgrader": {
     "cell_type": "code",
     "checksum": "24806bd4742c5b4b9063567ddce6d1a2",
     "grade": true,
     "grade_id": "cell-test-2",
     "locked": true,
     "points": 10,
     "schema_version": 3,
     "solution": false
    }
   },
   "outputs": [
    {
     "name": "stdout",
     "output_type": "stream",
     "text": [
      "test passed!\n"
     ]
    }
   ],
   "source": [
    "##########################\n",
    "### TEST YOUR SOLUTION ###\n",
    "##########################\n",
    "# diag_okay test\n",
    "diag_okay_test = diag_okay(3,0,1,2)\n",
    "assert diag_okay_test == False\n",
    "print(\"test passed!\")\n"
   ]
  },
  {
   "cell_type": "markdown",
   "id": "3035031b",
   "metadata": {},
   "source": [
    "#### cross_okay function "
   ]
  },
  {
   "cell_type": "code",
   "execution_count": 5,
   "id": "e73c105c",
   "metadata": {
    "deletable": false,
    "nbgrader": {
     "cell_type": "code",
     "checksum": "4eed7b6bb491ab803d7e3e3445b1d7ec",
     "grade": false,
     "grade_id": "cell-solution-3",
     "locked": false,
     "schema_version": 3,
     "solution": true
    }
   },
   "outputs": [],
   "source": [
    "def cross_okay(row1,col1,row2,col2):\n",
    "    return col1 != col2\n",
    "# your code here\n",
    "\n"
   ]
  },
  {
   "cell_type": "code",
   "execution_count": 6,
   "id": "018feb63",
   "metadata": {
    "deletable": false,
    "editable": false,
    "nbgrader": {
     "cell_type": "code",
     "checksum": "f64bc24535800ae795f33c0ec775943b",
     "grade": true,
     "grade_id": "cell-test-3",
     "locked": true,
     "points": 10,
     "schema_version": 3,
     "solution": false
    }
   },
   "outputs": [
    {
     "name": "stdout",
     "output_type": "stream",
     "text": [
      "test passed!\n"
     ]
    }
   ],
   "source": [
    "##########################\n",
    "### TEST YOUR SOLUTION ###\n",
    "##########################\n",
    "# cross_okay test\n",
    "cross_okay_test = cross_okay(1,3,4,3)\n",
    "assert cross_okay_test == False\n",
    "print(\"test passed!\")\n"
   ]
  },
  {
   "cell_type": "markdown",
   "id": "3a7e9216",
   "metadata": {},
   "source": [
    "#### move_allowed function "
   ]
  },
  {
   "cell_type": "code",
   "execution_count": 7,
   "id": "5cb3c193",
   "metadata": {
    "deletable": false,
    "nbgrader": {
     "cell_type": "code",
     "checksum": "8c5da31a80a65aef59f4d76005030dc0",
     "grade": false,
     "grade_id": "cell-solution-4",
     "locked": false,
     "schema_version": 3,
     "solution": true
    }
   },
   "outputs": [],
   "source": [
    "def move_allowed(row1,col1,row2,col2):\n",
    "    return diag_okay(row1, col1, row2, col2) and cross_okay(row1, col1, row2, col2)\n",
    "# your code here\n",
    "\n"
   ]
  },
  {
   "cell_type": "code",
   "execution_count": 8,
   "id": "970c1b31",
   "metadata": {
    "deletable": false,
    "editable": false,
    "nbgrader": {
     "cell_type": "code",
     "checksum": "314f3f873f752b6eb23cebb7935f83c2",
     "grade": true,
     "grade_id": "cell-test-4",
     "locked": true,
     "points": 15,
     "schema_version": 3,
     "solution": false
    }
   },
   "outputs": [
    {
     "name": "stdout",
     "output_type": "stream",
     "text": [
      "test passed!\n"
     ]
    }
   ],
   "source": [
    "##########################\n",
    "### TEST YOUR SOLUTION ###\n",
    "##########################\n",
    "# move_allowed test\n",
    "move_allowed_test1 = move_allowed(1,4,2,5)\n",
    "move_allowed_test2 = move_allowed(1,3,2,7)\n",
    "\n",
    "assert move_allowed_test1 == False, \"move_allowed_test1 should be False\"\n",
    "assert move_allowed_test2 == True, \"move_allowed_test2 should be True\"\n",
    "\n",
    "print(\"test passed!\")\n"
   ]
  },
  {
   "cell_type": "markdown",
   "id": "b6805ed3",
   "metadata": {},
   "source": [
    "With the help of the function move_allowed, you could work on implementing the function n_queens_valid right now!"
   ]
  },
  {
   "cell_type": "code",
   "execution_count": 9,
   "id": "bfc7a366",
   "metadata": {
    "deletable": false,
    "nbgrader": {
     "cell_type": "code",
     "checksum": "e76ee0bb99e785566ed0b93893af3a84",
     "grade": false,
     "grade_id": "cell-solution-5",
     "locked": false,
     "schema_version": 3,
     "solution": true
    }
   },
   "outputs": [],
   "source": [
    "############################################################\n",
    "# Section 2: n_queens_valid\n",
    "############################################################\n",
    "\n",
    "def n_queens_valid(board):        \n",
    "    n = len(board)\n",
    "    for i in range(n):\n",
    "        for j in range(i + 1, n):\n",
    "            if not move_allowed(i, board[i], j, board[j]):\n",
    "                return False\n",
    "    return True\n",
    "# your code here\n",
    "\n"
   ]
  },
  {
   "cell_type": "code",
   "execution_count": 10,
   "id": "bd799541",
   "metadata": {
    "deletable": false,
    "editable": false,
    "nbgrader": {
     "cell_type": "code",
     "checksum": "b59922b74ade57c7e7184431693b5691",
     "grade": true,
     "grade_id": "cell-test-5",
     "locked": true,
     "points": 15,
     "schema_version": 3,
     "solution": false
    }
   },
   "outputs": [
    {
     "name": "stdout",
     "output_type": "stream",
     "text": [
      "test passed!\n"
     ]
    }
   ],
   "source": [
    "##########################\n",
    "### TEST YOUR SOLUTION ###\n",
    "##########################\n",
    "# n_queens_valid test\n",
    "n_queens_valid_test1 = n_queens_valid([0, 0])\n",
    "n_queens_valid_test2 = n_queens_valid([0, 2])\n",
    "n_queens_valid_test3 = n_queens_valid([0, 1])\n",
    "n_queens_valid_test4 = n_queens_valid([0, 3, 1])\n",
    "assert n_queens_valid_test1 == False, \"n_queens_valid_test1 should be False\"\n",
    "assert n_queens_valid_test2 == True, \"n_queens_valid_test2 should be True\"\n",
    "assert n_queens_valid_test3 == False, \"n_queens_valid_test3 should be False\"\n",
    "assert n_queens_valid_test4 == True, \"n_queens_valid_test4 should be True\"\n",
    "print(\"test passed!\")\n"
   ]
  },
  {
   "cell_type": "markdown",
   "id": "bf960c38",
   "metadata": {
    "nbgrader": {
     "grade": false,
     "grade_id": "cell-md-3",
     "locked": false,
     "schema_version": 3,
     "solution": false,
     "task": false
    }
   },
   "source": [
    "### Section 3: Generate all Valid solutions for N-Queens\n",
    "Here, write a function n_queens_solutions(n) that returns a list of all valid placements of n queens on an n × n board, using the representation discussed above."
   ]
  },
  {
   "cell_type": "markdown",
   "id": "d51972de",
   "metadata": {},
   "source": [
    "Your solution should be implemented as a depth-first search, where queens are successively placed in empty rows until all rows have been filled. You may find it helpful to define a helper function n_queens_helper(n, board) that yields all valid placements which extend the partial solution denoted by board. And the output may be in any order you see fit."
   ]
  },
  {
   "cell_type": "markdown",
   "id": "8912a2c5",
   "metadata": {},
   "source": [
    "In n_queens_helper function, the \"board\" parameter which denotes the queen placements in preious steps; then you could iteratively check every placement_row and placement_col on the previous board and one next step queen placement position utilizing the function move_allowed to generate all valid placements new board in the next one step. "
   ]
  },
  {
   "cell_type": "code",
   "execution_count": 11,
   "id": "9496413c",
   "metadata": {
    "deletable": false,
    "nbgrader": {
     "cell_type": "code",
     "checksum": "b4a2be8c8980a0652e0ed2a53d70abb0",
     "grade": false,
     "grade_id": "cell-solution-6",
     "locked": false,
     "schema_version": 3,
     "solution": true
    }
   },
   "outputs": [],
   "source": [
    "def n_queens_helper(board, n):\n",
    "    if len(board) == n:\n",
    "        # If the board is fully populated with n queens, return this configuration\n",
    "        return [board]\n",
    "    \n",
    "    placement_row = len(board)\n",
    "    valid_placements = []\n",
    "    \n",
    "    for placement_col in range(n):\n",
    "        if all(move_allowed(placement_row, placement_col, row, col) for row, col in enumerate(board)):\n",
    "            # If placing a queen at (placement_row, placement_col) is valid, proceed recursively\n",
    "            new_board = board + [placement_col]\n",
    "            valid_placements.extend(n_queens_helper(new_board, n))\n",
    "    \n",
    "    return valid_placements\n"
   ]
  },
  {
   "cell_type": "code",
   "execution_count": 12,
   "id": "53606827",
   "metadata": {
    "deletable": false,
    "editable": false,
    "nbgrader": {
     "cell_type": "code",
     "checksum": "8f3bf8e0f7c0fcac62a771f8cb1822ab",
     "grade": true,
     "grade_id": "cell-test-6",
     "locked": true,
     "points": 15,
     "schema_version": 3,
     "solution": false
    }
   },
   "outputs": [
    {
     "ename": "AssertionError",
     "evalue": "",
     "output_type": "error",
     "traceback": [
      "\u001b[0;31m---------------------------------------------------------------------------\u001b[0m",
      "\u001b[0;31mAssertionError\u001b[0m                            Traceback (most recent call last)",
      "Cell \u001b[0;32mIn[12], line 7\u001b[0m\n\u001b[1;32m      5\u001b[0m n_queens_helper_test1 \u001b[38;5;241m=\u001b[39m n_queens_helper([\u001b[38;5;241m1\u001b[39m, \u001b[38;5;241m3\u001b[39m, \u001b[38;5;241m5\u001b[39m, \u001b[38;5;241m0\u001b[39m],\u001b[38;5;241m7\u001b[39m)\n\u001b[1;32m      6\u001b[0m n_queens_helper_test2 \u001b[38;5;241m=\u001b[39m n_queens_helper([\u001b[38;5;241m3\u001b[39m, \u001b[38;5;241m0\u001b[39m, \u001b[38;5;241m4\u001b[39m],\u001b[38;5;241m7\u001b[39m)\n\u001b[0;32m----> 7\u001b[0m \u001b[38;5;28;01massert\u001b[39;00m n_queens_helper_test1 \u001b[38;5;241m==\u001b[39m [[\u001b[38;5;241m1\u001b[39m, \u001b[38;5;241m3\u001b[39m, \u001b[38;5;241m5\u001b[39m, \u001b[38;5;241m0\u001b[39m, \u001b[38;5;241m2\u001b[39m], [\u001b[38;5;241m1\u001b[39m, \u001b[38;5;241m3\u001b[39m, \u001b[38;5;241m5\u001b[39m, \u001b[38;5;241m0\u001b[39m, \u001b[38;5;241m4\u001b[39m]]\n\u001b[1;32m      8\u001b[0m \u001b[38;5;28;01massert\u001b[39;00m n_queens_helper_test2 \u001b[38;5;241m==\u001b[39m [[\u001b[38;5;241m3\u001b[39m, \u001b[38;5;241m0\u001b[39m, \u001b[38;5;241m4\u001b[39m, \u001b[38;5;241m1\u001b[39m]]\n\u001b[1;32m      9\u001b[0m \u001b[38;5;28mprint\u001b[39m(\u001b[38;5;124m\"\u001b[39m\u001b[38;5;124mtest passed!\u001b[39m\u001b[38;5;124m\"\u001b[39m)\n",
      "\u001b[0;31mAssertionError\u001b[0m: "
     ]
    }
   ],
   "source": [
    "##########################\n",
    "### TEST YOUR SOLUTION ###\n",
    "##########################\n",
    "# n_queens_helper test\n",
    "n_queens_helper_test1 = n_queens_helper([1, 3, 5, 0],7)\n",
    "n_queens_helper_test2 = n_queens_helper([3, 0, 4],7)\n",
    "assert n_queens_helper_test1 == [[1, 3, 5, 0, 2], [1, 3, 5, 0, 4]]\n",
    "assert n_queens_helper_test2 == [[3, 0, 4, 1]]\n",
    "print(\"test passed!\")\n"
   ]
  },
  {
   "cell_type": "markdown",
   "id": "d3b9f663",
   "metadata": {},
   "source": [
    "The basic idea is to place queens one by one in different rows, starting from the upmost row. When we place a queen in a row, we check for clashes with already placed queens. In the current row, if we find a column for which there is no clash, we add this column as one of the solutions for the current row. If we do not find such a column due to clashes, then we return and find other possible placement."
   ]
  },
  {
   "cell_type": "code",
   "execution_count": 13,
   "id": "b33ce546",
   "metadata": {
    "deletable": false,
    "nbgrader": {
     "cell_type": "code",
     "checksum": "ac2ddcbcf72988763c59d66490d3afcc",
     "grade": false,
     "grade_id": "cell-solution-7",
     "locked": false,
     "schema_version": 3,
     "solution": true
    }
   },
   "outputs": [],
   "source": [
    "############################################################\n",
    "# Section 3: n_queens_solutions\n",
    "############################################################\n",
    "import collections\n",
    "\n",
    "def n_queens_solutions(n):\n",
    "    return n_queens_helper([], n)\n",
    "    # Initialize: Visited Set(recommend to use collections.defaultdict(bool));\n",
    "    #             Frontier\n",
    "    \n",
    "    # Method: DFS\n",
    "    \n",
    "    \n",
    "# your code here\n",
    "\n"
   ]
  },
  {
   "cell_type": "code",
   "execution_count": 14,
   "id": "602594d4",
   "metadata": {
    "deletable": false,
    "editable": false,
    "nbgrader": {
     "cell_type": "code",
     "checksum": "cd1d7a9045c101ca92c154e56e7618c0",
     "grade": true,
     "grade_id": "cell-test-7",
     "locked": true,
     "points": 15,
     "schema_version": 3,
     "solution": false
    }
   },
   "outputs": [
    {
     "ename": "AssertionError",
     "evalue": "",
     "output_type": "error",
     "traceback": [
      "\u001b[0;31m---------------------------------------------------------------------------\u001b[0m",
      "\u001b[0;31mAssertionError\u001b[0m                            Traceback (most recent call last)",
      "Cell \u001b[0;32mIn[14], line 8\u001b[0m\n\u001b[1;32m      6\u001b[0m n_queens_solutions_test1 \u001b[38;5;241m=\u001b[39m n_queens_solutions(\u001b[38;5;241m6\u001b[39m)\n\u001b[1;32m      7\u001b[0m n_queens_solutions_test2 \u001b[38;5;241m=\u001b[39m \u001b[38;5;28mlen\u001b[39m(n_queens_solutions(\u001b[38;5;241m8\u001b[39m))\n\u001b[0;32m----> 8\u001b[0m \u001b[38;5;28;01massert\u001b[39;00m n_queens_solutions_test0 \u001b[38;5;241m==\u001b[39m[[\u001b[38;5;241m0\u001b[39m, \u001b[38;5;241m3\u001b[39m, \u001b[38;5;241m1\u001b[39m, \u001b[38;5;241m4\u001b[39m, \u001b[38;5;241m2\u001b[39m],[\u001b[38;5;241m0\u001b[39m, \u001b[38;5;241m2\u001b[39m, \u001b[38;5;241m4\u001b[39m, \u001b[38;5;241m1\u001b[39m, \u001b[38;5;241m3\u001b[39m],[\u001b[38;5;241m1\u001b[39m, \u001b[38;5;241m4\u001b[39m, \u001b[38;5;241m2\u001b[39m, \u001b[38;5;241m0\u001b[39m, \u001b[38;5;241m3\u001b[39m],\\\n\u001b[1;32m      9\u001b[0m  [\u001b[38;5;241m1\u001b[39m, \u001b[38;5;241m3\u001b[39m, \u001b[38;5;241m0\u001b[39m, \u001b[38;5;241m2\u001b[39m, \u001b[38;5;241m4\u001b[39m],[\u001b[38;5;241m2\u001b[39m, \u001b[38;5;241m4\u001b[39m, \u001b[38;5;241m1\u001b[39m, \u001b[38;5;241m3\u001b[39m, \u001b[38;5;241m0\u001b[39m],[\u001b[38;5;241m2\u001b[39m, \u001b[38;5;241m0\u001b[39m, \u001b[38;5;241m3\u001b[39m, \u001b[38;5;241m1\u001b[39m, \u001b[38;5;241m4\u001b[39m],[\u001b[38;5;241m3\u001b[39m, \u001b[38;5;241m1\u001b[39m, \u001b[38;5;241m4\u001b[39m, \u001b[38;5;241m2\u001b[39m, \u001b[38;5;241m0\u001b[39m],[\u001b[38;5;241m3\u001b[39m, \u001b[38;5;241m0\u001b[39m, \u001b[38;5;241m2\u001b[39m, \u001b[38;5;241m4\u001b[39m, \u001b[38;5;241m1\u001b[39m],\\\n\u001b[1;32m     10\u001b[0m  [\u001b[38;5;241m4\u001b[39m, \u001b[38;5;241m2\u001b[39m, \u001b[38;5;241m0\u001b[39m, \u001b[38;5;241m3\u001b[39m, \u001b[38;5;241m1\u001b[39m],[\u001b[38;5;241m4\u001b[39m, \u001b[38;5;241m1\u001b[39m, \u001b[38;5;241m3\u001b[39m, \u001b[38;5;241m0\u001b[39m, \u001b[38;5;241m2\u001b[39m]]\n\u001b[1;32m     11\u001b[0m \u001b[38;5;28;01massert\u001b[39;00m n_queens_solutions_test1 \u001b[38;5;241m==\u001b[39m [[\u001b[38;5;241m1\u001b[39m, \u001b[38;5;241m3\u001b[39m, \u001b[38;5;241m5\u001b[39m, \u001b[38;5;241m0\u001b[39m, \u001b[38;5;241m2\u001b[39m, \u001b[38;5;241m4\u001b[39m], [\u001b[38;5;241m2\u001b[39m, \u001b[38;5;241m5\u001b[39m, \u001b[38;5;241m1\u001b[39m, \u001b[38;5;241m4\u001b[39m, \u001b[38;5;241m0\u001b[39m, \u001b[38;5;241m3\u001b[39m],\\\n\u001b[1;32m     12\u001b[0m                         [\u001b[38;5;241m3\u001b[39m, \u001b[38;5;241m0\u001b[39m, \u001b[38;5;241m4\u001b[39m, \u001b[38;5;241m1\u001b[39m, \u001b[38;5;241m5\u001b[39m, \u001b[38;5;241m2\u001b[39m], [\u001b[38;5;241m4\u001b[39m, \u001b[38;5;241m2\u001b[39m, \u001b[38;5;241m0\u001b[39m, \u001b[38;5;241m5\u001b[39m, \u001b[38;5;241m3\u001b[39m, \u001b[38;5;241m1\u001b[39m]]\n\u001b[1;32m     13\u001b[0m \u001b[38;5;28;01massert\u001b[39;00m n_queens_solutions_test2 \u001b[38;5;241m==\u001b[39m \u001b[38;5;241m92\u001b[39m\n",
      "\u001b[0;31mAssertionError\u001b[0m: "
     ]
    }
   ],
   "source": [
    "##########################\n",
    "### TEST YOUR SOLUTION ###\n",
    "##########################\n",
    "# n_queens_solutions test\n",
    "n_queens_solutions_test0 = n_queens_solutions(5)\n",
    "n_queens_solutions_test1 = n_queens_solutions(6)\n",
    "n_queens_solutions_test2 = len(n_queens_solutions(8))\n",
    "assert n_queens_solutions_test0 ==[[0, 3, 1, 4, 2],[0, 2, 4, 1, 3],[1, 4, 2, 0, 3],\\\n",
    " [1, 3, 0, 2, 4],[2, 4, 1, 3, 0],[2, 0, 3, 1, 4],[3, 1, 4, 2, 0],[3, 0, 2, 4, 1],\\\n",
    " [4, 2, 0, 3, 1],[4, 1, 3, 0, 2]]\n",
    "assert n_queens_solutions_test1 == [[1, 3, 5, 0, 2, 4], [2, 5, 1, 4, 0, 3],\\\n",
    "                        [3, 0, 4, 1, 5, 2], [4, 2, 0, 5, 3, 1]]\n",
    "assert n_queens_solutions_test2 == 92\n",
    "print(\"test passed!\")\n"
   ]
  },
  {
   "cell_type": "code",
   "execution_count": null,
   "id": "3154c0d1",
   "metadata": {},
   "outputs": [],
   "source": []
  }
 ],
 "metadata": {
  "kernelspec": {
   "display_name": "Python 3 (ipykernel)",
   "language": "python",
   "name": "python3"
  },
  "language_info": {
   "codemirror_mode": {
    "name": "ipython",
    "version": 3
   },
   "file_extension": ".py",
   "mimetype": "text/x-python",
   "name": "python",
   "nbconvert_exporter": "python",
   "pygments_lexer": "ipython3",
   "version": "3.10.6"
  }
 },
 "nbformat": 4,
 "nbformat_minor": 5
}
